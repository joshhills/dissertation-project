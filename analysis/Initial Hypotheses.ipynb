{
 "cells": [
  {
   "cell_type": "markdown",
   "metadata": {},
   "source": [
    "# Initial Hypotheses\n",
    "\n",
    "## Contents\n",
    "\n",
    "- [Context](#Context)\n",
    "- [Hypotheses](#Context)\n",
    "\n",
    "## Context\n",
    "\n",
    "Testing my intuition seems like a logical way to begin exploratory data analysis.\n",
    "\n",
    "I have collected product data from four discrete sources, which represent different categorical features. This should prove sufficient, however there are more kinds of data available.\n",
    "\n",
    "- Product listing\n",
    "- Product reviews\n",
    "- Product updates\n",
    "- Product use\n",
    "\n",
    "Since the simplified and overarching intention of the project is to improve the __['New Product Development'](https://en.wikipedia.org/wiki/New_product_development)__ (NPD) process of software, my initial hypotheses are centric to potentially actionable outcomes. Resultantly, although many theories may be concocted about relationships within the data, I am focusing specifically on those for which their assertion could prove useful in the context of lifecycle management in-industry.\n",
    "\n",
    "This should explain the absence of some seemingly *obvious* or interesting avenues of exploration, such as pricing, critical reception etc.\n",
    "\n",
    "## Definition of terms\n",
    "\n",
    "A *listing* discerns it from other products. The fields are not largely subject to change.\n",
    "\n",
    "A *review* represents a pre-classified unit of sentiment, statically one-per user.\n",
    "\n",
    "An *update* is a modification to the product at a point in time.\n",
    "\n",
    "*Use* refers to active time spent using the product.\n",
    "\n",
    "A *user* represents somebody who has purchased the product, and encompasses a set of interactions within this system including:\n",
    "- Using the product\n",
    "- Publishing reviews about the product\n",
    "\n",
    "A *developer* represents somebody with control over a product's lifecycle-management, and encompasses a set of interactions within this system including:\n",
    "- Publishing updates to the product's listing\n",
    "- Publishing updates to the product itself\n",
    "\n",
    "## Assumptions\n",
    "\n",
    "Since the problem contains many moving parts, there are aspects of the available data that can be compounded or ignored for the sake of simplicity (this may reduce the accuracy and efficacy of the results).\n",
    "\n",
    "There are a set of actions that may be undertaken during the product's lifecycle, which are constrained by this system. These actions have, for now, been reduced to publishing a product update. \n",
    "\n",
    "It is reasonable to classify an update using a function of its delta size. Any further qualifications of its type and content are ignored, as the incredible variance in their meta descriptions (represented chiefly through  __['changelogs'](https://en.wikipedia.org/wiki/Changelog)__) would likely require an impossible amount of manual investigation.\n",
    "\n",
    "It is sensible to define a *positive* interaction is one that increases user engagement with the product. This may take the form of positive review scores, an increase in time spent using it etc. This is therefore to be sought and maximised.\n",
    "\n",
    "...\n",
    "\n",
    "## Hypotheses\n",
    "\n",
    "### Products that are updated more frequently receive more positive reviews\n",
    "\n",
    "#### Why?\n",
    "\n",
    "If we can see an upward trend in the ratio of positive to negative reviews correlative to the number of updates a product has received, then this may provide business justification to use continued development as a means of increasing positive user engagement.\n",
    "\n",
    "#### Exploration\n",
    "\n"
   ]
  },
  {
   "cell_type": "code",
   "execution_count": null,
   "metadata": {},
   "outputs": [],
   "source": [
    "import pandas as pd\n",
    "import numpy as np\n",
    "import scipy as sp\n",
    "import plotly.plotly as py\n",
    "\n"
   ]
  }
 ],
 "metadata": {
  "kernelspec": {
   "display_name": "Python 2",
   "language": "python",
   "name": "python2"
  },
  "language_info": {
   "codemirror_mode": {
    "name": "ipython",
    "version": 2
   },
   "file_extension": ".py",
   "mimetype": "text/x-python",
   "name": "python",
   "nbconvert_exporter": "python",
   "pygments_lexer": "ipython2",
   "version": "2.7.14"
  }
 },
 "nbformat": 4,
 "nbformat_minor": 2
}
