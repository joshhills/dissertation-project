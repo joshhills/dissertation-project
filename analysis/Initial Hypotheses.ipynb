{
 "cells": [
  {
   "cell_type": "markdown",
   "metadata": {},
   "source": [
    "# Initial Hypotheses\n",
    "\n",
    "---\n",
    "\n",
    "### 1\n",
    "\n",
    "### Aim\n",
    "\n",
    "Products that receive more updates also receive higher ratings.\n",
    "\n",
    "### Purpose\n",
    "\n",
    "This is based on the assumption that in an update, a developer will attempt to expand and improve the experience of the user, and therefore there should be a positive correlation between update and score metrics. If this holds true, updates have an obvious impact that can be further explored, however it may be skewed by products that happened to be well recieved upon release. Furthermore, it will not account for opinion that has waned over time.\n",
    "\n",
    "### Investigation\n",
    "\n",
    "I will take the number of updates graphed against \n",
    "\n",
    "### Results\n",
    "\n",
    "It turns out that\n",
    "\n",
    "---"
   ]
  },
  {
   "cell_type": "code",
   "execution_count": null,
   "metadata": {},
   "outputs": [],
   "source": []
  }
 ],
 "metadata": {
  "kernelspec": {
   "display_name": "Python 2",
   "language": "python",
   "name": "python2"
  },
  "language_info": {
   "codemirror_mode": {
    "name": "ipython",
    "version": 2
   },
   "file_extension": ".py",
   "mimetype": "text/x-python",
   "name": "python",
   "nbconvert_exporter": "python",
   "pygments_lexer": "ipython2",
   "version": "2.7.14"
  }
 },
 "nbformat": 4,
 "nbformat_minor": 2
}
