{
 "cells": [
  {
   "cell_type": "markdown",
   "metadata": {},
   "source": [
    "# Initial Hypotheses\n",
    "\n",
    "---\n",
    "\n",
    "### 1\n",
    "\n",
    "### Aim\n",
    "\n",
    "Products that receive more updates also receive higher ratings.\n",
    "\n",
    "### Purpose\n",
    "\n",
    "Attempting to find a positive correlation between update and score metrics.\n",
    "\n",
    "### Investigation\n",
    "\n",
    "I have...\n",
    "\n",
    "### Results\n",
    "\n",
    "It turns out that\n",
    "\n",
    "---"
   ]
  },
  {
   "cell_type": "code",
   "execution_count": null,
   "metadata": {},
   "outputs": [],
   "source": []
  }
 ],
 "metadata": {
  "kernelspec": {
   "display_name": "Python 2",
   "language": "python",
   "name": "python2"
  },
  "language_info": {
   "codemirror_mode": {
    "name": "ipython",
    "version": 2
   },
   "file_extension": ".py",
   "mimetype": "text/x-python",
   "name": "python",
   "nbconvert_exporter": "python",
   "pygments_lexer": "ipython2",
   "version": "2.7.14"
  }
 },
 "nbformat": 4,
 "nbformat_minor": 2
}
