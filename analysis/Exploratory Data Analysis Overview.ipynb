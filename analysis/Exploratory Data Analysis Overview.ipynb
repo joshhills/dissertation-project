{
 "cells": [
  {
   "cell_type": "code",
   "execution_count": 2,
   "metadata": {},
   "outputs": [
    {
     "data": {
      "text/html": [
       "<script>requirejs.config({paths: { 'plotly': ['https://cdn.plot.ly/plotly-latest.min']},});if(!window.Plotly) {{require(['plotly'],function(plotly) {window.Plotly=plotly;});}}</script>"
      ],
      "text/vnd.plotly.v1+html": [
       "<script>requirejs.config({paths: { 'plotly': ['https://cdn.plot.ly/plotly-latest.min']},});if(!window.Plotly) {{require(['plotly'],function(plotly) {window.Plotly=plotly;});}}</script>"
      ]
     },
     "metadata": {},
     "output_type": "display_data"
    }
   ],
   "source": [
    "# Notebook-wide definitions.\n",
    "\n",
    "import json\n",
    "import numpy\n",
    "\n",
    "from plotly import __version__\n",
    "from plotly.offline import download_plotlyjs, init_notebook_mode, plot, iplot\n",
    "import plotly.graph_objs as go\n",
    "\n",
    "init_notebook_mode(connected=True)"
   ]
  },
  {
   "cell_type": "markdown",
   "metadata": {},
   "source": [
    "# Exploratory Data Analysis Overview\n",
    "\n",
    "## Contents\n",
    "\n",
    "- [Context](#Context)\n",
    "- [Model Definition](#Model-Definition)\n",
    "- [Assumptions](#Assumptions)\n",
    "- [Known Factors Influencing Data](#Known-Factors-Influencing-Data)\n",
    "- [Data Overview](#Data-Overview)\n",
    "\n",
    "## Context\n",
    "\n",
    "Simplified, the intention of the project is to improve the __['New Product Development'](https://en.wikipedia.org/wiki/New_product_development)__ (NPD) process of software; that is, to inform product owners and help them tune their release cycle to maximise their intended outcomes.\n",
    "\n",
    "My initial hypotheses are centric to potentially actionable outcomes. Resultantly, although many theories may be concocted about relationships within the data, I am focusing specifically on those for which their assertion could prove useful in the context of industrial lifecycle management. This explains the absence of some seemingly obvious or interesting open avenues of exploration, such as pricing. This is elaborated upon elsewhere.\n",
    "\n",
    "We use 'product' because the digital platform has expanded from just video games, and therefore there are products here that are software tools. This representation provides interesting avenues for exploration and comparison of findings; in addition to seeing if trends hold true for the entire sample set, we may posit why based on the kind of product it is.\n",
    "\n",
    "Products that have since migrated from early access are not included, however they represent in themselves a unique area of exploration - one would assume they were successful but the effects of the transition may vary.\n",
    "\n",
    "## Model Definition\n",
    "\n",
    "#### Users\n",
    "\n",
    "A *user* represents somebody who has purchased the product, and encompasses a set of interactions within this system including:\n",
    "- Using the product\n",
    "- Publishing reviews about the product\n",
    "\n",
    "#### Developers\n",
    "\n",
    "A *developer* represents somebody with control over a product's lifecycle-management, and encompasses a set of interactions within this system including:\n",
    "- Publishing updates to the product's listing\n",
    "- Publishing updates to the product itself\n",
    "\n",
    "#### Data Model\n",
    "\n",
    "I have collected product data from four discrete sources, which represent different categorical features. This should prove sufficient, however there are more kinds of data available.\n",
    "\n",
    "- Product listing\n",
    "- Product reviews\n",
    "- Product updates\n",
    "- Product useage\n",
    "\n",
    "##### Listing\n",
    "\n",
    "A *listing* discerns it from other products. They are stored in the 'store' bucket (the discrepancy in nomenclature is explained in source. The fields are not largely subject to change. Each may have multiple 'genres', referred to also as 'categories' or 'tags'.\n",
    "\n",
    "```json\n",
    "{\n",
    "  \"date_released\": \"8 Nov, 2013\",\n",
    "  \"genres\": [\n",
    "    \"Indie\",\n",
    "    \"RPG\",\n",
    "    \"Simulation\",\n",
    "    \"Early Access\"\n",
    "  ],\n",
    "  \"is_free\": false,\n",
    "  \"metacritic_score\": \"68\",\n",
    "  \"name\": \"Example Product\",\n",
    "  \"owners\": 872046,\n",
    "  \"players_average_forever\": 1231,\n",
    "  \"players_forever\": 837417,\n",
    "  \"players_median_forever\": 391,\n",
    "  \"price\": \"1499\",\n",
    "  \"product_id\": \"108600\",\n",
    "  \"score_rank\": 65,\n",
    "  \"user_score\": 86\n",
    "}\n",
    "```\n",
    "\n",
    "##### Review\n",
    "\n",
    "A *review* represents a pre-classified unit of sentiment, one-per user. It also contains some flattened information about the user.\n",
    "\n",
    "```json\n",
    "{\n",
    "  \"author_id\": \"76561682049575891\",\n",
    "  \"author_last_played\": 1475862888,\n",
    "  \"author_num_games_owned\": 90,\n",
    "  \"author_num_reviews\": 3,\n",
    "  \"author_total_playtime\": 623,\n",
    "  \"date_created\": 1399060157,\n",
    "  \"language\": \"english\",\n",
    "  \"product_id\": \"284850\",\n",
    "  \"received_for_free\": false,\n",
    "  \"recommendation_id\": \"16000027\",\n",
    "  \"review_length\": 122,\n",
    "  \"voted_up\": true,\n",
    "  \"votes_funny\": 0,\n",
    "  \"votes_up\": 0,\n",
    "  \"written_during_early_access\": true\n",
    "}\n",
    "```\n",
    "\n",
    "##### Update\n",
    "\n",
    "An *update* is a modification to the product at a point in time.\n",
    "\n",
    "```json\n",
    "{\n",
    "  \"date_created\": 1387226838,\n",
    "  \"feed_name\": \"steam_community_announcements\",\n",
    "  \"product_id\": \"2281001,\n",
    "  \"update_id\": \"1999102271521259752\"\n",
    "}\n",
    "```\n",
    "\n",
    "##### Usage\n",
    "\n",
    "*Usage* refers to active time spent using the product. This is represented as daily concurrent users since the product's release. It has been flattened and denormalized to promote speed, and can be indexed using a function of the start time and step as a unix epoch.\n",
    "\n",
    "```json\n",
    "{\n",
    "  \"product_id\": \"593440\",\n",
    "  \"start\": \"1366834400\",\n",
    "  \"step\": \"86400\",\n",
    "  \"values\": \"[1, 16, 31, 46, 61, 76, 91, 106 ... 13]\"\n",
    "}\n",
    "```\n",
    "\n",
    "## Assumptions\n",
    "\n",
    "TODO: Revisit\n",
    "\n",
    "Since the problem contains many moving parts, there are aspects of the available data that can be compounded or ignored for the sake of simplicity (this may reduce the accuracy and efficacy of the results). I will attempt to mitigate the negative consequences of these assumptions where possible.\n",
    "\n",
    "- There are a set of actions that may be undertaken during the product's lifecycle, which are constrained by this system. These actions have, for now, been reduced to publishing a product update as the only action of importance. \n",
    "\n",
    "- The contents of a review are unimportant (although I do log the length of a review).\n",
    "\n",
    "- It is sensible to define a *positive* interaction is one that increases user engagement with the product. This may take the form of more owners, reviews, an increase in time spent using it etc. We assume that this is desirable.\n",
    "\n",
    "- It is reasonable to disregard the classification of an update in favour of it simply having happened. Any further qualifications of its type and content are ignored, as the incredible variance in their meta descriptions (represented chiefly through  __['changelogs'](https://en.wikipedia.org/wiki/Changelog)__) would likely require an impossible amount of manual investigation. As the systems developers have access to to publish updates are not restrictive, it is possible that an 'update' may not actually represent an update in the sense that I am seeking, and measures have been taken to minimise the risk of this: from a cursory trawl through the endpoint used, it seems that for my sample set the vast majority of developers are exclusively tagging updates as \"community_announcement\", which has resultantly been used as a filter during collection. \n",
    "\n",
    "## Known Factors Influencing Data\n",
    "\n",
    "TODO: Revisit\n",
    "\n",
    "There are factors that may infuence and furthermore corrupt the data. I will attempt to conduct changepoint analysis in order waylay this, and otherwise keep them in mind when investigating anomolies or unexpected results. They are listed here for posterity.\n",
    "\n",
    "- The date influences CCU (localised seasonal effect) - it spikes at weekends, and drops during weekdays when users are otherwise at work. Furthermore, owners of the system can encourage user engagement, for example through community challenges.\n",
    "\n",
    "- Price changes influence CCU and review sentiment - a decrease in price is correlative to a spike in users and positive review scores.\n",
    "\n",
    "- External publicity of a product may have implications on any aspect of the data; 'review bombing' sees an increase in negative reviews when the product is attached to controversy irrespective of itself.\n",
    "\n",
    "## Data Overview\n",
    "\n",
    "#### Overview\n",
    "\n",
    "The sample set after collection and culling is tailored to my investigation. Although the exact mechanical steps have not been explicitly logged, the software used for collection is open sourced, and a database snapshot (backup) can be provided upon request.\n",
    "\n",
    "I have collected:\n",
    "- 977 listing\n",
    "- 1,533,188 reviews\n",
    "- 33,934 updates\n",
    "- Usage information for all listings\n",
    "\n",
    "#### Representation\n",
    "\n",
    "Representation, there are 23 genres (sans 'early access'). Understandably, most games are tagged as 'indie', meaning independently published. As there are a limited amount of tags per game, it is reasonable to assume that all products are 'independent' (most publishers forego 'early access' as a release strategy as their purpose is to circumvent it) and some have simply forgotten or opted to not tag themselves as 'indie'. There are 942 video games and 35 software products."
   ]
  },
  {
   "cell_type": "code",
   "execution_count": 28,
   "metadata": {},
   "outputs": [
    {
     "data": {
      "application/vnd.plotly.v1+json": {
       "data": [
        {
         "type": "bar",
         "x": [
          "Indie",
          "Action",
          "Simulation",
          "Adventure",
          "Strategy",
          "RPG",
          "Casual",
          "Massively Multiplayer",
          "Free to Play",
          "Violent",
          "Sports",
          "Gore",
          "Racing",
          "Nudity",
          "Utilities",
          "Design & Illustration",
          "Animation & Modeling",
          "Sexual Content",
          "Audio Production",
          "Video Production",
          "Education",
          "Web Publishing",
          "Software Training"
         ],
         "y": [
          805,
          588,
          333,
          327,
          274,
          273,
          197,
          101,
          88,
          84,
          67,
          56,
          50,
          12,
          11,
          8,
          7,
          6,
          4,
          3,
          3,
          1,
          1
         ]
        }
       ],
       "layout": {}
      },
      "text/html": [
       "<div id=\"dbb66697-0e7a-4639-98ea-5aed295e1385\" style=\"height: 525px; width: 100%;\" class=\"plotly-graph-div\"></div><script type=\"text/javascript\">require([\"plotly\"], function(Plotly) { window.PLOTLYENV=window.PLOTLYENV || {};window.PLOTLYENV.BASE_URL=\"https://plot.ly\";Plotly.newPlot(\"dbb66697-0e7a-4639-98ea-5aed295e1385\", [{\"y\": [805, 588, 333, 327, 274, 273, 197, 101, 88, 84, 67, 56, 50, 12, 11, 8, 7, 6, 4, 3, 3, 1, 1], \"x\": [\"Indie\", \"Action\", \"Simulation\", \"Adventure\", \"Strategy\", \"RPG\", \"Casual\", \"Massively Multiplayer\", \"Free to Play\", \"Violent\", \"Sports\", \"Gore\", \"Racing\", \"Nudity\", \"Utilities\", \"Design & Illustration\", \"Animation & Modeling\", \"Sexual Content\", \"Audio Production\", \"Video Production\", \"Education\", \"Web Publishing\", \"Software Training\"], \"type\": \"bar\"}], {}, {\"linkText\": \"Export to plot.ly\", \"showLink\": true})});</script>"
      ],
      "text/vnd.plotly.v1+html": [
       "<div id=\"dbb66697-0e7a-4639-98ea-5aed295e1385\" style=\"height: 525px; width: 100%;\" class=\"plotly-graph-div\"></div><script type=\"text/javascript\">require([\"plotly\"], function(Plotly) { window.PLOTLYENV=window.PLOTLYENV || {};window.PLOTLYENV.BASE_URL=\"https://plot.ly\";Plotly.newPlot(\"dbb66697-0e7a-4639-98ea-5aed295e1385\", [{\"y\": [805, 588, 333, 327, 274, 273, 197, 101, 88, 84, 67, 56, 50, 12, 11, 8, 7, 6, 4, 3, 3, 1, 1], \"x\": [\"Indie\", \"Action\", \"Simulation\", \"Adventure\", \"Strategy\", \"RPG\", \"Casual\", \"Massively Multiplayer\", \"Free to Play\", \"Violent\", \"Sports\", \"Gore\", \"Racing\", \"Nudity\", \"Utilities\", \"Design & Illustration\", \"Animation & Modeling\", \"Sexual Content\", \"Audio Production\", \"Video Production\", \"Education\", \"Web Publishing\", \"Software Training\"], \"type\": \"bar\"}], {}, {\"linkText\": \"Export to plot.ly\", \"showLink\": true})});</script>"
      ]
     },
     "metadata": {},
     "output_type": "display_data"
    }
   ],
   "source": [
    "product_categories = json.load(open('./dumps/genres.json'))\n",
    "\n",
    "# Sort to make better in display.\n",
    "product_categories.sort(reverse=True)\n",
    "\n",
    "x = []\n",
    "y = []\n",
    "\n",
    "for category in product_categories:\n",
    "    x.append(category['genre'])\n",
    "    y.append(category['count'])\n",
    "    \n",
    "data = [go.Bar(\n",
    "    x=x,\n",
    "    y=y\n",
    ")]\n",
    "\n",
    "iplot(data, filename='jupyter/test')"
   ]
  },
  {
   "cell_type": "markdown",
   "metadata": {},
   "source": [
    "#### Age\n",
    "\n",
    "In a playable state according to daily CCU usage, the product released longest ago is \"Airmech Strike\" on 08/11/2012. The product released closest to now is \"Rise Of Industry\", on 09/02/2018.\n",
    "\n",
    "The range spans 5 years, 3 months and 1 days.\n",
    "\n",
    "#### Distribution\n",
    "\n",
    "###### Reviews\n",
    "\n",
    "As the largest dataset, the lowest amount of reviews for a game is 20 (constrained), and the highest is 139,867. The average (less helpful here) is 1569, and the median is 122.\n",
    "\n",
    "###### Sentiment\n",
    "\n",
    "User scores range from 0 to 100. The average userscore is 72, and the median is 75.\n",
    "\n",
    "It is important to note that products with scores at the lowest and highest percentiles have had less reviews (see below). The largest deviation at ~60 is likely explained by the polarity of popular games."
   ]
  },
  {
   "cell_type": "code",
   "execution_count": 15,
   "metadata": {},
   "outputs": [
    {
     "data": {
      "application/vnd.plotly.v1+json": {
       "data": [
        {
         "boxpoints": false,
         "name": 0,
         "type": "box",
         "y": [
          21,
          21,
          22,
          26,
          27,
          29,
          40,
          41,
          85
         ]
        },
        {
         "boxpoints": false,
         "name": 9,
         "type": "box",
         "y": [
          25
         ]
        },
        {
         "boxpoints": false,
         "name": 10,
         "type": "box",
         "y": [
          229
         ]
        },
        {
         "boxpoints": false,
         "name": 17,
         "type": "box",
         "y": [
          198,
          501
         ]
        },
        {
         "boxpoints": false,
         "name": 18,
         "type": "box",
         "y": [
          71,
          99
         ]
        },
        {
         "boxpoints": false,
         "name": 20,
         "type": "box",
         "y": [
          25,
          39,
          76,
          141,
          247
         ]
        },
        {
         "boxpoints": false,
         "name": 21,
         "type": "box",
         "y": [
          1312
         ]
        },
        {
         "boxpoints": false,
         "name": 22,
         "type": "box",
         "y": [
          146
         ]
        },
        {
         "boxpoints": false,
         "name": 23,
         "type": "box",
         "y": [
          22,
          26,
          34
         ]
        },
        {
         "boxpoints": false,
         "name": 25,
         "type": "box",
         "y": [
          24,
          48,
          50,
          83,
          377
         ]
        },
        {
         "boxpoints": false,
         "name": 26,
         "type": "box",
         "y": [
          62
         ]
        },
        {
         "boxpoints": false,
         "name": 27,
         "type": "box",
         "y": [
          42,
          81
         ]
        },
        {
         "boxpoints": false,
         "name": 28,
         "type": "box",
         "y": [
          45,
          49,
          116,
          178,
          6470
         ]
        },
        {
         "boxpoints": false,
         "name": 29,
         "type": "box",
         "y": [
          20,
          324
         ]
        },
        {
         "boxpoints": false,
         "name": 30,
         "type": "box",
         "y": [
          21,
          26,
          73,
          125,
          247,
          457
         ]
        },
        {
         "boxpoints": false,
         "name": 31,
         "type": "box",
         "y": [
          80,
          165
         ]
        },
        {
         "boxpoints": false,
         "name": 32,
         "type": "box",
         "y": [
          274
         ]
        },
        {
         "boxpoints": false,
         "name": 33,
         "type": "box",
         "y": [
          28,
          65,
          93
         ]
        },
        {
         "boxpoints": false,
         "name": 34,
         "type": "box",
         "y": [
          175,
          3626
         ]
        },
        {
         "boxpoints": false,
         "name": 35,
         "type": "box",
         "y": [
          42,
          50,
          77
         ]
        },
        {
         "boxpoints": false,
         "name": 37,
         "type": "box",
         "y": [
          38,
          46,
          134,
          789
         ]
        },
        {
         "boxpoints": false,
         "name": 38,
         "type": "box",
         "y": [
          29,
          37,
          60,
          93,
          94,
          137
         ]
        },
        {
         "boxpoints": false,
         "name": 39,
         "type": "box",
         "y": [
          578
         ]
        },
        {
         "boxpoints": false,
         "name": 40,
         "type": "box",
         "y": [
          27,
          49,
          77,
          82,
          96
         ]
        },
        {
         "boxpoints": false,
         "name": 41,
         "type": "box",
         "y": [
          44,
          121,
          1452
         ]
        },
        {
         "boxpoints": false,
         "name": 42,
         "type": "box",
         "y": [
          37,
          104
         ]
        },
        {
         "boxpoints": false,
         "name": 43,
         "type": "box",
         "y": [
          90,
          164,
          626,
          698,
          1686
         ]
        },
        {
         "boxpoints": false,
         "name": 44,
         "type": "box",
         "y": [
          170,
          492,
          1230
         ]
        },
        {
         "boxpoints": false,
         "name": 45,
         "type": "box",
         "y": [
          23,
          31,
          47,
          50,
          62,
          73,
          79,
          89,
          197,
          230,
          774,
          849,
          1535
         ]
        },
        {
         "boxpoints": false,
         "name": 46,
         "type": "box",
         "y": [
          25,
          30,
          41,
          42,
          144,
          253,
          3435
         ]
        },
        {
         "boxpoints": false,
         "name": 47,
         "type": "box",
         "y": [
          25,
          27,
          30,
          38,
          63,
          1061
         ]
        },
        {
         "boxpoints": false,
         "name": 48,
         "type": "box",
         "y": [
          67,
          70,
          78,
          148,
          156,
          164,
          403,
          1932
         ]
        },
        {
         "boxpoints": false,
         "name": 49,
         "type": "box",
         "y": [
          74,
          93,
          344,
          633,
          850,
          1125,
          3101
         ]
        },
        {
         "boxpoints": false,
         "name": 50,
         "type": "box",
         "y": [
          22,
          22,
          23,
          26,
          28,
          31,
          32,
          47,
          69,
          75,
          100,
          104,
          191,
          197,
          411,
          465,
          1064
         ]
        },
        {
         "boxpoints": false,
         "name": 51,
         "type": "box",
         "y": [
          35,
          78,
          92,
          104,
          236,
          358,
          16326
         ]
        },
        {
         "boxpoints": false,
         "name": 52,
         "type": "box",
         "y": [
          24,
          39,
          63,
          89,
          127,
          1340,
          7214
         ]
        },
        {
         "boxpoints": false,
         "name": 53,
         "type": "box",
         "y": [
          25,
          45,
          61,
          75,
          84,
          89,
          185,
          963,
          1879
         ]
        },
        {
         "boxpoints": false,
         "name": 54,
         "type": "box",
         "y": [
          33,
          36,
          46,
          82,
          88,
          239,
          305,
          624,
          6689
         ]
        },
        {
         "boxpoints": false,
         "name": 55,
         "type": "box",
         "y": [
          34,
          80,
          89,
          101,
          108,
          147,
          190,
          207,
          626,
          740,
          1971,
          5496
         ]
        },
        {
         "boxpoints": false,
         "name": 56,
         "type": "box",
         "y": [
          20,
          140,
          152,
          169,
          202,
          267,
          690
         ]
        },
        {
         "boxpoints": false,
         "name": 57,
         "type": "box",
         "y": [
          23,
          24,
          76,
          105,
          150,
          239,
          252,
          606,
          5981
         ]
        },
        {
         "boxpoints": false,
         "name": 58,
         "type": "box",
         "y": [
          34,
          44,
          48,
          60,
          79,
          90,
          91,
          102,
          121,
          138,
          220,
          1019,
          2007,
          24286
         ]
        },
        {
         "boxpoints": false,
         "name": 59,
         "type": "box",
         "y": [
          41,
          76,
          158,
          527,
          665,
          2051,
          13912
         ]
        },
        {
         "boxpoints": false,
         "name": 60,
         "type": "box",
         "y": [
          20,
          33,
          66,
          79,
          123,
          253,
          1168,
          2962,
          67341
         ]
        },
        {
         "boxpoints": false,
         "name": 61,
         "type": "box",
         "y": [
          20,
          25,
          69,
          107,
          279,
          453,
          639,
          662,
          1527
         ]
        },
        {
         "boxpoints": false,
         "name": 62,
         "type": "box",
         "y": [
          20,
          41,
          58,
          61,
          118,
          131,
          137,
          144,
          155,
          192,
          305,
          126642,
          139867
         ]
        },
        {
         "boxpoints": false,
         "name": 63,
         "type": "box",
         "y": [
          36,
          42,
          59,
          60,
          66,
          72,
          144,
          180,
          251,
          1155,
          5930,
          15470
         ]
        },
        {
         "boxpoints": false,
         "name": 64,
         "type": "box",
         "y": [
          22,
          45,
          52,
          52,
          105,
          432,
          1121,
          1414,
          2084,
          2287,
          7362
         ]
        },
        {
         "boxpoints": false,
         "name": 65,
         "type": "box",
         "y": [
          23,
          26,
          34,
          41,
          42,
          43,
          47,
          51,
          52,
          63,
          87,
          157,
          205,
          208,
          293,
          505,
          821,
          2964,
          4180,
          7534
         ]
        },
        {
         "boxpoints": false,
         "name": 66,
         "type": "box",
         "y": [
          20,
          25,
          31,
          34,
          36,
          37,
          37,
          40,
          45,
          47,
          60,
          73,
          82,
          104,
          317,
          505,
          1724
         ]
        },
        {
         "boxpoints": false,
         "name": 67,
         "type": "box",
         "y": [
          29,
          33,
          46,
          54,
          64,
          67,
          67,
          161,
          170,
          338,
          388,
          456,
          983,
          1101,
          3033,
          4056,
          6422
         ]
        },
        {
         "boxpoints": false,
         "name": 68,
         "type": "box",
         "y": [
          54,
          55,
          67,
          68,
          75,
          97,
          107,
          119,
          260,
          264,
          267,
          284,
          428,
          450,
          1020,
          2983,
          5735
         ]
        },
        {
         "boxpoints": false,
         "name": 69,
         "type": "box",
         "y": [
          48,
          53,
          64,
          95,
          110,
          136,
          142,
          165,
          197,
          236,
          270,
          309,
          313,
          431,
          540,
          1272,
          9876,
          21738
         ]
        },
        {
         "boxpoints": false,
         "name": 70,
         "type": "box",
         "y": [
          29,
          30,
          31,
          31,
          35,
          35,
          70,
          79,
          80,
          92,
          96,
          96,
          128,
          136,
          276,
          297,
          412,
          499,
          1007,
          1815,
          3927,
          4035,
          7705
         ]
        },
        {
         "boxpoints": false,
         "name": 71,
         "type": "box",
         "y": [
          29,
          42,
          49,
          109,
          199,
          549,
          689,
          999,
          1314,
          2451
         ]
        },
        {
         "boxpoints": false,
         "name": 72,
         "type": "box",
         "y": [
          23,
          29,
          30,
          33,
          34,
          35,
          54,
          69,
          71,
          86,
          112,
          114,
          270,
          348,
          370,
          700,
          990,
          1021,
          1294,
          2836
         ]
        },
        {
         "boxpoints": false,
         "name": 73,
         "type": "box",
         "y": [
          21,
          22,
          31,
          43,
          45,
          60,
          68,
          71,
          120,
          125,
          125,
          141,
          175,
          196,
          261,
          280,
          294,
          296,
          644,
          676,
          694,
          1669,
          2491,
          20047
         ]
        },
        {
         "boxpoints": false,
         "name": 74,
         "type": "box",
         "y": [
          27,
          32,
          34,
          35,
          40,
          63,
          75,
          80,
          91,
          105,
          106,
          131,
          221,
          262,
          394,
          713,
          815,
          960,
          1302,
          1937
         ]
        },
        {
         "boxpoints": false,
         "name": 75,
         "type": "box",
         "y": [
          22,
          25,
          25,
          25,
          27,
          31,
          35,
          43,
          48,
          48,
          61,
          147,
          235,
          236,
          251,
          263,
          297,
          336,
          396,
          599,
          799,
          921,
          943,
          1149,
          1295,
          2843
         ]
        },
        {
         "boxpoints": false,
         "name": 76,
         "type": "box",
         "y": [
          28,
          31,
          33,
          53,
          56,
          109,
          183,
          184,
          218,
          264,
          392,
          632,
          912,
          1194,
          1295,
          16797,
          18183
         ]
        },
        {
         "boxpoints": false,
         "name": 77,
         "type": "box",
         "y": [
          23,
          24,
          33,
          37,
          40,
          46,
          49,
          60,
          62,
          65,
          69,
          81,
          92,
          93,
          97,
          142,
          155,
          241,
          266,
          405,
          1566,
          1570,
          2088
         ]
        },
        {
         "boxpoints": false,
         "name": 78,
         "type": "box",
         "y": [
          30,
          31,
          33,
          40,
          45,
          58,
          60,
          65,
          65,
          73,
          163,
          163,
          167,
          168,
          220,
          259,
          315,
          580,
          629,
          777,
          1177,
          1186,
          1256,
          1906
         ]
        },
        {
         "boxpoints": false,
         "name": 79,
         "type": "box",
         "y": [
          59,
          81,
          83,
          86,
          113,
          243,
          304,
          343,
          469,
          841,
          1983,
          2841
         ]
        },
        {
         "boxpoints": false,
         "name": 80,
         "type": "box",
         "y": [
          20,
          22,
          26,
          27,
          29,
          31,
          33,
          36,
          39,
          51,
          53,
          81,
          202,
          215,
          240,
          247,
          287,
          449,
          516,
          548,
          1080,
          2582,
          2791
         ]
        },
        {
         "boxpoints": false,
         "name": 81,
         "type": "box",
         "y": [
          22,
          23,
          34,
          43,
          48,
          52,
          56,
          72,
          87,
          146,
          147,
          154,
          250,
          509,
          1399,
          1507,
          1836,
          4869,
          53955
         ]
        },
        {
         "boxpoints": false,
         "name": 82,
         "type": "box",
         "y": [
          28,
          28,
          36,
          41,
          41,
          43,
          53,
          99,
          124,
          162,
          227,
          355,
          363,
          382,
          512,
          840,
          1044,
          1165,
          1192,
          1473,
          3475,
          4351,
          5406
         ]
        },
        {
         "boxpoints": false,
         "name": 83,
         "type": "box",
         "y": [
          27,
          27,
          27,
          38,
          39,
          41,
          42,
          44,
          57,
          57,
          69,
          94,
          106,
          109,
          163,
          166,
          168,
          171,
          250,
          281,
          336,
          665,
          750,
          786,
          832,
          1828,
          13445,
          106744
         ]
        },
        {
         "boxpoints": false,
         "name": 84,
         "type": "box",
         "y": [
          29,
          34,
          41,
          42,
          44,
          50,
          80,
          96,
          101,
          106,
          122,
          138,
          159,
          167,
          207,
          390,
          1373,
          2790,
          4964,
          9748,
          17833
         ]
        },
        {
         "boxpoints": false,
         "name": 85,
         "type": "box",
         "y": [
          22,
          22,
          25,
          29,
          31,
          34,
          35,
          55,
          70,
          71,
          86,
          89,
          94,
          108,
          140,
          266,
          326,
          449,
          599,
          614,
          873,
          2413,
          4176,
          8056
         ]
        },
        {
         "boxpoints": false,
         "name": 86,
         "type": "box",
         "y": [
          22,
          30,
          36,
          44,
          57,
          62,
          64,
          96,
          135,
          158,
          340,
          352,
          499,
          695,
          842,
          965,
          15486,
          18724
         ]
        },
        {
         "boxpoints": false,
         "name": 87,
         "type": "box",
         "y": [
          28,
          66,
          84,
          87,
          97,
          122,
          142,
          161,
          575,
          1171,
          1270,
          3919,
          7636,
          12503,
          49917
         ]
        },
        {
         "boxpoints": false,
         "name": 88,
         "type": "box",
         "y": [
          22,
          29,
          30,
          32,
          36,
          36,
          37,
          39,
          40,
          42,
          44,
          105,
          108,
          116,
          126,
          152,
          174,
          189,
          201,
          296,
          889,
          1139,
          1223,
          1584,
          1640,
          2817,
          3752,
          9772
         ]
        },
        {
         "boxpoints": false,
         "name": 89,
         "type": "box",
         "y": [
          21,
          30,
          43,
          48,
          53,
          58,
          78,
          88,
          94,
          120,
          122,
          157,
          183,
          222,
          574,
          2550,
          8045,
          8695
         ]
        },
        {
         "boxpoints": false,
         "name": 90,
         "type": "box",
         "y": [
          28,
          35,
          42,
          42,
          56,
          74,
          77,
          92,
          108,
          128,
          138,
          142,
          175,
          182,
          200,
          1294,
          1390,
          1841,
          2366,
          8041,
          10762
         ]
        },
        {
         "boxpoints": false,
         "name": 91,
         "type": "box",
         "y": [
          24,
          51,
          54,
          89,
          108,
          188,
          218,
          273,
          282,
          325,
          357,
          379,
          1060,
          1139,
          1939,
          2520,
          3426,
          4550,
          9201
         ]
        },
        {
         "boxpoints": false,
         "name": 92,
         "type": "box",
         "y": [
          30,
          31,
          31,
          31,
          33,
          34,
          35,
          39,
          43,
          55,
          59,
          74,
          77,
          119,
          125,
          128,
          136,
          139,
          153,
          220,
          370,
          389,
          438,
          2164,
          2806,
          68963
         ]
        },
        {
         "boxpoints": false,
         "name": 93,
         "type": "box",
         "y": [
          25,
          33,
          40,
          60,
          64,
          65,
          99,
          103,
          190,
          201,
          284,
          332,
          373,
          428,
          438,
          439,
          500,
          541,
          553,
          722,
          736,
          1048,
          1135,
          4699,
          5191,
          9696
         ]
        },
        {
         "boxpoints": false,
         "name": 94,
         "type": "box",
         "y": [
          20,
          23,
          29,
          30,
          38,
          61,
          75,
          191,
          245,
          274,
          657,
          706,
          3098,
          3299
         ]
        },
        {
         "boxpoints": false,
         "name": 95,
         "type": "box",
         "y": [
          22,
          26,
          27,
          28,
          30,
          65,
          223,
          307,
          321,
          486,
          910,
          1569,
          2133,
          3883,
          6233,
          11566,
          21650
         ]
        },
        {
         "boxpoints": false,
         "name": 96,
         "type": "box",
         "y": [
          30,
          47,
          54,
          67,
          121,
          139,
          154,
          165,
          168,
          215,
          267,
          305,
          319,
          330,
          609,
          1067,
          1159,
          1597,
          2697,
          3930,
          5652,
          37288
         ]
        },
        {
         "boxpoints": false,
         "name": 97,
         "type": "box",
         "y": [
          44,
          45,
          47,
          51,
          53,
          54,
          54,
          59,
          85,
          184,
          192,
          198,
          1045,
          1565,
          2304,
          17269
         ]
        },
        {
         "boxpoints": false,
         "name": 98,
         "type": "box",
         "y": [
          72,
          89,
          176,
          267,
          297,
          877,
          24741
         ]
        },
        {
         "boxpoints": false,
         "name": 99,
         "type": "box",
         "y": [
          282
         ]
        },
        {
         "boxpoints": false,
         "name": 100,
         "type": "box",
         "y": [
          20,
          21,
          21,
          22,
          23,
          24,
          24,
          25,
          25,
          26,
          28,
          30,
          30,
          32,
          34,
          34,
          34,
          35,
          35,
          41,
          45,
          55,
          56,
          235
         ]
        }
       ],
       "layout": {}
      },
      "text/html": [
       "<div id=\"3fe04e7f-5723-4ebb-9098-ea395d905ef5\" style=\"height: 525px; width: 100%;\" class=\"plotly-graph-div\"></div><script type=\"text/javascript\">require([\"plotly\"], function(Plotly) { window.PLOTLYENV=window.PLOTLYENV || {};window.PLOTLYENV.BASE_URL=\"https://plot.ly\";Plotly.newPlot(\"3fe04e7f-5723-4ebb-9098-ea395d905ef5\", [{\"y\": [21, 21, 22, 26, 27, 29, 40, 41, 85], \"type\": \"box\", \"name\": 0, \"boxpoints\": false}, {\"y\": [25], \"type\": \"box\", \"name\": 9, \"boxpoints\": false}, {\"y\": [229], \"type\": \"box\", \"name\": 10, \"boxpoints\": false}, {\"y\": [198, 501], \"type\": \"box\", \"name\": 17, \"boxpoints\": false}, {\"y\": [71, 99], \"type\": \"box\", \"name\": 18, \"boxpoints\": false}, {\"y\": [25, 39, 76, 141, 247], \"type\": \"box\", \"name\": 20, \"boxpoints\": false}, {\"y\": [1312], \"type\": \"box\", \"name\": 21, \"boxpoints\": false}, {\"y\": [146], \"type\": \"box\", \"name\": 22, \"boxpoints\": false}, {\"y\": [22, 26, 34], \"type\": \"box\", \"name\": 23, \"boxpoints\": false}, {\"y\": [24, 48, 50, 83, 377], \"type\": \"box\", \"name\": 25, \"boxpoints\": false}, {\"y\": [62], \"type\": \"box\", \"name\": 26, \"boxpoints\": false}, {\"y\": [42, 81], \"type\": \"box\", \"name\": 27, \"boxpoints\": false}, {\"y\": [45, 49, 116, 178, 6470], \"type\": \"box\", \"name\": 28, \"boxpoints\": false}, {\"y\": [20, 324], \"type\": \"box\", \"name\": 29, \"boxpoints\": false}, {\"y\": [21, 26, 73, 125, 247, 457], \"type\": \"box\", \"name\": 30, \"boxpoints\": false}, {\"y\": [80, 165], \"type\": \"box\", \"name\": 31, \"boxpoints\": false}, {\"y\": [274], \"type\": \"box\", \"name\": 32, \"boxpoints\": false}, {\"y\": [28, 65, 93], \"type\": \"box\", \"name\": 33, \"boxpoints\": false}, {\"y\": [175, 3626], \"type\": \"box\", \"name\": 34, \"boxpoints\": false}, {\"y\": [42, 50, 77], \"type\": \"box\", \"name\": 35, \"boxpoints\": false}, {\"y\": [38, 46, 134, 789], \"type\": \"box\", \"name\": 37, \"boxpoints\": false}, {\"y\": [29, 37, 60, 93, 94, 137], \"type\": \"box\", \"name\": 38, \"boxpoints\": false}, {\"y\": [578], \"type\": \"box\", \"name\": 39, \"boxpoints\": false}, {\"y\": [27, 49, 77, 82, 96], \"type\": \"box\", \"name\": 40, \"boxpoints\": false}, {\"y\": [44, 121, 1452], \"type\": \"box\", \"name\": 41, \"boxpoints\": false}, {\"y\": [37, 104], \"type\": \"box\", \"name\": 42, \"boxpoints\": false}, {\"y\": [90, 164, 626, 698, 1686], \"type\": \"box\", \"name\": 43, \"boxpoints\": false}, {\"y\": [170, 492, 1230], \"type\": \"box\", \"name\": 44, \"boxpoints\": false}, {\"y\": [23, 31, 47, 50, 62, 73, 79, 89, 197, 230, 774, 849, 1535], \"type\": \"box\", \"name\": 45, \"boxpoints\": false}, {\"y\": [25, 30, 41, 42, 144, 253, 3435], \"type\": \"box\", \"name\": 46, \"boxpoints\": false}, {\"y\": [25, 27, 30, 38, 63, 1061], \"type\": \"box\", \"name\": 47, \"boxpoints\": false}, {\"y\": [67, 70, 78, 148, 156, 164, 403, 1932], \"type\": \"box\", \"name\": 48, \"boxpoints\": false}, {\"y\": [74, 93, 344, 633, 850, 1125, 3101], \"type\": \"box\", \"name\": 49, \"boxpoints\": false}, {\"y\": [22, 22, 23, 26, 28, 31, 32, 47, 69, 75, 100, 104, 191, 197, 411, 465, 1064], \"type\": \"box\", \"name\": 50, \"boxpoints\": false}, {\"y\": [35, 78, 92, 104, 236, 358, 16326], \"type\": \"box\", \"name\": 51, \"boxpoints\": false}, {\"y\": [24, 39, 63, 89, 127, 1340, 7214], \"type\": \"box\", \"name\": 52, \"boxpoints\": false}, {\"y\": [25, 45, 61, 75, 84, 89, 185, 963, 1879], \"type\": \"box\", \"name\": 53, \"boxpoints\": false}, {\"y\": [33, 36, 46, 82, 88, 239, 305, 624, 6689], \"type\": \"box\", \"name\": 54, \"boxpoints\": false}, {\"y\": [34, 80, 89, 101, 108, 147, 190, 207, 626, 740, 1971, 5496], \"type\": \"box\", \"name\": 55, \"boxpoints\": false}, {\"y\": [20, 140, 152, 169, 202, 267, 690], \"type\": \"box\", \"name\": 56, \"boxpoints\": false}, {\"y\": [23, 24, 76, 105, 150, 239, 252, 606, 5981], \"type\": \"box\", \"name\": 57, \"boxpoints\": false}, {\"y\": [34, 44, 48, 60, 79, 90, 91, 102, 121, 138, 220, 1019, 2007, 24286], \"type\": \"box\", \"name\": 58, \"boxpoints\": false}, {\"y\": [41, 76, 158, 527, 665, 2051, 13912], \"type\": \"box\", \"name\": 59, \"boxpoints\": false}, {\"y\": [20, 33, 66, 79, 123, 253, 1168, 2962, 67341], \"type\": \"box\", \"name\": 60, \"boxpoints\": false}, {\"y\": [20, 25, 69, 107, 279, 453, 639, 662, 1527], \"type\": \"box\", \"name\": 61, \"boxpoints\": false}, {\"y\": [20, 41, 58, 61, 118, 131, 137, 144, 155, 192, 305, 126642, 139867], \"type\": \"box\", \"name\": 62, \"boxpoints\": false}, {\"y\": [36, 42, 59, 60, 66, 72, 144, 180, 251, 1155, 5930, 15470], \"type\": \"box\", \"name\": 63, \"boxpoints\": false}, {\"y\": [22, 45, 52, 52, 105, 432, 1121, 1414, 2084, 2287, 7362], \"type\": \"box\", \"name\": 64, \"boxpoints\": false}, {\"y\": [23, 26, 34, 41, 42, 43, 47, 51, 52, 63, 87, 157, 205, 208, 293, 505, 821, 2964, 4180, 7534], \"type\": \"box\", \"name\": 65, \"boxpoints\": false}, {\"y\": [20, 25, 31, 34, 36, 37, 37, 40, 45, 47, 60, 73, 82, 104, 317, 505, 1724], \"type\": \"box\", \"name\": 66, \"boxpoints\": false}, {\"y\": [29, 33, 46, 54, 64, 67, 67, 161, 170, 338, 388, 456, 983, 1101, 3033, 4056, 6422], \"type\": \"box\", \"name\": 67, \"boxpoints\": false}, {\"y\": [54, 55, 67, 68, 75, 97, 107, 119, 260, 264, 267, 284, 428, 450, 1020, 2983, 5735], \"type\": \"box\", \"name\": 68, \"boxpoints\": false}, {\"y\": [48, 53, 64, 95, 110, 136, 142, 165, 197, 236, 270, 309, 313, 431, 540, 1272, 9876, 21738], \"type\": \"box\", \"name\": 69, \"boxpoints\": false}, {\"y\": [29, 30, 31, 31, 35, 35, 70, 79, 80, 92, 96, 96, 128, 136, 276, 297, 412, 499, 1007, 1815, 3927, 4035, 7705], \"type\": \"box\", \"name\": 70, \"boxpoints\": false}, {\"y\": [29, 42, 49, 109, 199, 549, 689, 999, 1314, 2451], \"type\": \"box\", \"name\": 71, \"boxpoints\": false}, {\"y\": [23, 29, 30, 33, 34, 35, 54, 69, 71, 86, 112, 114, 270, 348, 370, 700, 990, 1021, 1294, 2836], \"type\": \"box\", \"name\": 72, \"boxpoints\": false}, {\"y\": [21, 22, 31, 43, 45, 60, 68, 71, 120, 125, 125, 141, 175, 196, 261, 280, 294, 296, 644, 676, 694, 1669, 2491, 20047], \"type\": \"box\", \"name\": 73, \"boxpoints\": false}, {\"y\": [27, 32, 34, 35, 40, 63, 75, 80, 91, 105, 106, 131, 221, 262, 394, 713, 815, 960, 1302, 1937], \"type\": \"box\", \"name\": 74, \"boxpoints\": false}, {\"y\": [22, 25, 25, 25, 27, 31, 35, 43, 48, 48, 61, 147, 235, 236, 251, 263, 297, 336, 396, 599, 799, 921, 943, 1149, 1295, 2843], \"type\": \"box\", \"name\": 75, \"boxpoints\": false}, {\"y\": [28, 31, 33, 53, 56, 109, 183, 184, 218, 264, 392, 632, 912, 1194, 1295, 16797, 18183], \"type\": \"box\", \"name\": 76, \"boxpoints\": false}, {\"y\": [23, 24, 33, 37, 40, 46, 49, 60, 62, 65, 69, 81, 92, 93, 97, 142, 155, 241, 266, 405, 1566, 1570, 2088], \"type\": \"box\", \"name\": 77, \"boxpoints\": false}, {\"y\": [30, 31, 33, 40, 45, 58, 60, 65, 65, 73, 163, 163, 167, 168, 220, 259, 315, 580, 629, 777, 1177, 1186, 1256, 1906], \"type\": \"box\", \"name\": 78, \"boxpoints\": false}, {\"y\": [59, 81, 83, 86, 113, 243, 304, 343, 469, 841, 1983, 2841], \"type\": \"box\", \"name\": 79, \"boxpoints\": false}, {\"y\": [20, 22, 26, 27, 29, 31, 33, 36, 39, 51, 53, 81, 202, 215, 240, 247, 287, 449, 516, 548, 1080, 2582, 2791], \"type\": \"box\", \"name\": 80, \"boxpoints\": false}, {\"y\": [22, 23, 34, 43, 48, 52, 56, 72, 87, 146, 147, 154, 250, 509, 1399, 1507, 1836, 4869, 53955], \"type\": \"box\", \"name\": 81, \"boxpoints\": false}, {\"y\": [28, 28, 36, 41, 41, 43, 53, 99, 124, 162, 227, 355, 363, 382, 512, 840, 1044, 1165, 1192, 1473, 3475, 4351, 5406], \"type\": \"box\", \"name\": 82, \"boxpoints\": false}, {\"y\": [27, 27, 27, 38, 39, 41, 42, 44, 57, 57, 69, 94, 106, 109, 163, 166, 168, 171, 250, 281, 336, 665, 750, 786, 832, 1828, 13445, 106744], \"type\": \"box\", \"name\": 83, \"boxpoints\": false}, {\"y\": [29, 34, 41, 42, 44, 50, 80, 96, 101, 106, 122, 138, 159, 167, 207, 390, 1373, 2790, 4964, 9748, 17833], \"type\": \"box\", \"name\": 84, \"boxpoints\": false}, {\"y\": [22, 22, 25, 29, 31, 34, 35, 55, 70, 71, 86, 89, 94, 108, 140, 266, 326, 449, 599, 614, 873, 2413, 4176, 8056], \"type\": \"box\", \"name\": 85, \"boxpoints\": false}, {\"y\": [22, 30, 36, 44, 57, 62, 64, 96, 135, 158, 340, 352, 499, 695, 842, 965, 15486, 18724], \"type\": \"box\", \"name\": 86, \"boxpoints\": false}, {\"y\": [28, 66, 84, 87, 97, 122, 142, 161, 575, 1171, 1270, 3919, 7636, 12503, 49917], \"type\": \"box\", \"name\": 87, \"boxpoints\": false}, {\"y\": [22, 29, 30, 32, 36, 36, 37, 39, 40, 42, 44, 105, 108, 116, 126, 152, 174, 189, 201, 296, 889, 1139, 1223, 1584, 1640, 2817, 3752, 9772], \"type\": \"box\", \"name\": 88, \"boxpoints\": false}, {\"y\": [21, 30, 43, 48, 53, 58, 78, 88, 94, 120, 122, 157, 183, 222, 574, 2550, 8045, 8695], \"type\": \"box\", \"name\": 89, \"boxpoints\": false}, {\"y\": [28, 35, 42, 42, 56, 74, 77, 92, 108, 128, 138, 142, 175, 182, 200, 1294, 1390, 1841, 2366, 8041, 10762], \"type\": \"box\", \"name\": 90, \"boxpoints\": false}, {\"y\": [24, 51, 54, 89, 108, 188, 218, 273, 282, 325, 357, 379, 1060, 1139, 1939, 2520, 3426, 4550, 9201], \"type\": \"box\", \"name\": 91, \"boxpoints\": false}, {\"y\": [30, 31, 31, 31, 33, 34, 35, 39, 43, 55, 59, 74, 77, 119, 125, 128, 136, 139, 153, 220, 370, 389, 438, 2164, 2806, 68963], \"type\": \"box\", \"name\": 92, \"boxpoints\": false}, {\"y\": [25, 33, 40, 60, 64, 65, 99, 103, 190, 201, 284, 332, 373, 428, 438, 439, 500, 541, 553, 722, 736, 1048, 1135, 4699, 5191, 9696], \"type\": \"box\", \"name\": 93, \"boxpoints\": false}, {\"y\": [20, 23, 29, 30, 38, 61, 75, 191, 245, 274, 657, 706, 3098, 3299], \"type\": \"box\", \"name\": 94, \"boxpoints\": false}, {\"y\": [22, 26, 27, 28, 30, 65, 223, 307, 321, 486, 910, 1569, 2133, 3883, 6233, 11566, 21650], \"type\": \"box\", \"name\": 95, \"boxpoints\": false}, {\"y\": [30, 47, 54, 67, 121, 139, 154, 165, 168, 215, 267, 305, 319, 330, 609, 1067, 1159, 1597, 2697, 3930, 5652, 37288], \"type\": \"box\", \"name\": 96, \"boxpoints\": false}, {\"y\": [44, 45, 47, 51, 53, 54, 54, 59, 85, 184, 192, 198, 1045, 1565, 2304, 17269], \"type\": \"box\", \"name\": 97, \"boxpoints\": false}, {\"y\": [72, 89, 176, 267, 297, 877, 24741], \"type\": \"box\", \"name\": 98, \"boxpoints\": false}, {\"y\": [282], \"type\": \"box\", \"name\": 99, \"boxpoints\": false}, {\"y\": [20, 21, 21, 22, 23, 24, 24, 25, 25, 26, 28, 30, 30, 32, 34, 34, 34, 35, 35, 41, 45, 55, 56, 235], \"type\": \"box\", \"name\": 100, \"boxpoints\": false}], {}, {\"linkText\": \"Export to plot.ly\", \"showLink\": true})});</script>"
      ],
      "text/vnd.plotly.v1+html": [
       "<div id=\"3fe04e7f-5723-4ebb-9098-ea395d905ef5\" style=\"height: 525px; width: 100%;\" class=\"plotly-graph-div\"></div><script type=\"text/javascript\">require([\"plotly\"], function(Plotly) { window.PLOTLYENV=window.PLOTLYENV || {};window.PLOTLYENV.BASE_URL=\"https://plot.ly\";Plotly.newPlot(\"3fe04e7f-5723-4ebb-9098-ea395d905ef5\", [{\"y\": [21, 21, 22, 26, 27, 29, 40, 41, 85], \"type\": \"box\", \"name\": 0, \"boxpoints\": false}, {\"y\": [25], \"type\": \"box\", \"name\": 9, \"boxpoints\": false}, {\"y\": [229], \"type\": \"box\", \"name\": 10, \"boxpoints\": false}, {\"y\": [198, 501], \"type\": \"box\", \"name\": 17, \"boxpoints\": false}, {\"y\": [71, 99], \"type\": \"box\", \"name\": 18, \"boxpoints\": false}, {\"y\": [25, 39, 76, 141, 247], \"type\": \"box\", \"name\": 20, \"boxpoints\": false}, {\"y\": [1312], \"type\": \"box\", \"name\": 21, \"boxpoints\": false}, {\"y\": [146], \"type\": \"box\", \"name\": 22, \"boxpoints\": false}, {\"y\": [22, 26, 34], \"type\": \"box\", \"name\": 23, \"boxpoints\": false}, {\"y\": [24, 48, 50, 83, 377], \"type\": \"box\", \"name\": 25, \"boxpoints\": false}, {\"y\": [62], \"type\": \"box\", \"name\": 26, \"boxpoints\": false}, {\"y\": [42, 81], \"type\": \"box\", \"name\": 27, \"boxpoints\": false}, {\"y\": [45, 49, 116, 178, 6470], \"type\": \"box\", \"name\": 28, \"boxpoints\": false}, {\"y\": [20, 324], \"type\": \"box\", \"name\": 29, \"boxpoints\": false}, {\"y\": [21, 26, 73, 125, 247, 457], \"type\": \"box\", \"name\": 30, \"boxpoints\": false}, {\"y\": [80, 165], \"type\": \"box\", \"name\": 31, \"boxpoints\": false}, {\"y\": [274], \"type\": \"box\", \"name\": 32, \"boxpoints\": false}, {\"y\": [28, 65, 93], \"type\": \"box\", \"name\": 33, \"boxpoints\": false}, {\"y\": [175, 3626], \"type\": \"box\", \"name\": 34, \"boxpoints\": false}, {\"y\": [42, 50, 77], \"type\": \"box\", \"name\": 35, \"boxpoints\": false}, {\"y\": [38, 46, 134, 789], \"type\": \"box\", \"name\": 37, \"boxpoints\": false}, {\"y\": [29, 37, 60, 93, 94, 137], \"type\": \"box\", \"name\": 38, \"boxpoints\": false}, {\"y\": [578], \"type\": \"box\", \"name\": 39, \"boxpoints\": false}, {\"y\": [27, 49, 77, 82, 96], \"type\": \"box\", \"name\": 40, \"boxpoints\": false}, {\"y\": [44, 121, 1452], \"type\": \"box\", \"name\": 41, \"boxpoints\": false}, {\"y\": [37, 104], \"type\": \"box\", \"name\": 42, \"boxpoints\": false}, {\"y\": [90, 164, 626, 698, 1686], \"type\": \"box\", \"name\": 43, \"boxpoints\": false}, {\"y\": [170, 492, 1230], \"type\": \"box\", \"name\": 44, \"boxpoints\": false}, {\"y\": [23, 31, 47, 50, 62, 73, 79, 89, 197, 230, 774, 849, 1535], \"type\": \"box\", \"name\": 45, \"boxpoints\": false}, {\"y\": [25, 30, 41, 42, 144, 253, 3435], \"type\": \"box\", \"name\": 46, \"boxpoints\": false}, {\"y\": [25, 27, 30, 38, 63, 1061], \"type\": \"box\", \"name\": 47, \"boxpoints\": false}, {\"y\": [67, 70, 78, 148, 156, 164, 403, 1932], \"type\": \"box\", \"name\": 48, \"boxpoints\": false}, {\"y\": [74, 93, 344, 633, 850, 1125, 3101], \"type\": \"box\", \"name\": 49, \"boxpoints\": false}, {\"y\": [22, 22, 23, 26, 28, 31, 32, 47, 69, 75, 100, 104, 191, 197, 411, 465, 1064], \"type\": \"box\", \"name\": 50, \"boxpoints\": false}, {\"y\": [35, 78, 92, 104, 236, 358, 16326], \"type\": \"box\", \"name\": 51, \"boxpoints\": false}, {\"y\": [24, 39, 63, 89, 127, 1340, 7214], \"type\": \"box\", \"name\": 52, \"boxpoints\": false}, {\"y\": [25, 45, 61, 75, 84, 89, 185, 963, 1879], \"type\": \"box\", \"name\": 53, \"boxpoints\": false}, {\"y\": [33, 36, 46, 82, 88, 239, 305, 624, 6689], \"type\": \"box\", \"name\": 54, \"boxpoints\": false}, {\"y\": [34, 80, 89, 101, 108, 147, 190, 207, 626, 740, 1971, 5496], \"type\": \"box\", \"name\": 55, \"boxpoints\": false}, {\"y\": [20, 140, 152, 169, 202, 267, 690], \"type\": \"box\", \"name\": 56, \"boxpoints\": false}, {\"y\": [23, 24, 76, 105, 150, 239, 252, 606, 5981], \"type\": \"box\", \"name\": 57, \"boxpoints\": false}, {\"y\": [34, 44, 48, 60, 79, 90, 91, 102, 121, 138, 220, 1019, 2007, 24286], \"type\": \"box\", \"name\": 58, \"boxpoints\": false}, {\"y\": [41, 76, 158, 527, 665, 2051, 13912], \"type\": \"box\", \"name\": 59, \"boxpoints\": false}, {\"y\": [20, 33, 66, 79, 123, 253, 1168, 2962, 67341], \"type\": \"box\", \"name\": 60, \"boxpoints\": false}, {\"y\": [20, 25, 69, 107, 279, 453, 639, 662, 1527], \"type\": \"box\", \"name\": 61, \"boxpoints\": false}, {\"y\": [20, 41, 58, 61, 118, 131, 137, 144, 155, 192, 305, 126642, 139867], \"type\": \"box\", \"name\": 62, \"boxpoints\": false}, {\"y\": [36, 42, 59, 60, 66, 72, 144, 180, 251, 1155, 5930, 15470], \"type\": \"box\", \"name\": 63, \"boxpoints\": false}, {\"y\": [22, 45, 52, 52, 105, 432, 1121, 1414, 2084, 2287, 7362], \"type\": \"box\", \"name\": 64, \"boxpoints\": false}, {\"y\": [23, 26, 34, 41, 42, 43, 47, 51, 52, 63, 87, 157, 205, 208, 293, 505, 821, 2964, 4180, 7534], \"type\": \"box\", \"name\": 65, \"boxpoints\": false}, {\"y\": [20, 25, 31, 34, 36, 37, 37, 40, 45, 47, 60, 73, 82, 104, 317, 505, 1724], \"type\": \"box\", \"name\": 66, \"boxpoints\": false}, {\"y\": [29, 33, 46, 54, 64, 67, 67, 161, 170, 338, 388, 456, 983, 1101, 3033, 4056, 6422], \"type\": \"box\", \"name\": 67, \"boxpoints\": false}, {\"y\": [54, 55, 67, 68, 75, 97, 107, 119, 260, 264, 267, 284, 428, 450, 1020, 2983, 5735], \"type\": \"box\", \"name\": 68, \"boxpoints\": false}, {\"y\": [48, 53, 64, 95, 110, 136, 142, 165, 197, 236, 270, 309, 313, 431, 540, 1272, 9876, 21738], \"type\": \"box\", \"name\": 69, \"boxpoints\": false}, {\"y\": [29, 30, 31, 31, 35, 35, 70, 79, 80, 92, 96, 96, 128, 136, 276, 297, 412, 499, 1007, 1815, 3927, 4035, 7705], \"type\": \"box\", \"name\": 70, \"boxpoints\": false}, {\"y\": [29, 42, 49, 109, 199, 549, 689, 999, 1314, 2451], \"type\": \"box\", \"name\": 71, \"boxpoints\": false}, {\"y\": [23, 29, 30, 33, 34, 35, 54, 69, 71, 86, 112, 114, 270, 348, 370, 700, 990, 1021, 1294, 2836], \"type\": \"box\", \"name\": 72, \"boxpoints\": false}, {\"y\": [21, 22, 31, 43, 45, 60, 68, 71, 120, 125, 125, 141, 175, 196, 261, 280, 294, 296, 644, 676, 694, 1669, 2491, 20047], \"type\": \"box\", \"name\": 73, \"boxpoints\": false}, {\"y\": [27, 32, 34, 35, 40, 63, 75, 80, 91, 105, 106, 131, 221, 262, 394, 713, 815, 960, 1302, 1937], \"type\": \"box\", \"name\": 74, \"boxpoints\": false}, {\"y\": [22, 25, 25, 25, 27, 31, 35, 43, 48, 48, 61, 147, 235, 236, 251, 263, 297, 336, 396, 599, 799, 921, 943, 1149, 1295, 2843], \"type\": \"box\", \"name\": 75, \"boxpoints\": false}, {\"y\": [28, 31, 33, 53, 56, 109, 183, 184, 218, 264, 392, 632, 912, 1194, 1295, 16797, 18183], \"type\": \"box\", \"name\": 76, \"boxpoints\": false}, {\"y\": [23, 24, 33, 37, 40, 46, 49, 60, 62, 65, 69, 81, 92, 93, 97, 142, 155, 241, 266, 405, 1566, 1570, 2088], \"type\": \"box\", \"name\": 77, \"boxpoints\": false}, {\"y\": [30, 31, 33, 40, 45, 58, 60, 65, 65, 73, 163, 163, 167, 168, 220, 259, 315, 580, 629, 777, 1177, 1186, 1256, 1906], \"type\": \"box\", \"name\": 78, \"boxpoints\": false}, {\"y\": [59, 81, 83, 86, 113, 243, 304, 343, 469, 841, 1983, 2841], \"type\": \"box\", \"name\": 79, \"boxpoints\": false}, {\"y\": [20, 22, 26, 27, 29, 31, 33, 36, 39, 51, 53, 81, 202, 215, 240, 247, 287, 449, 516, 548, 1080, 2582, 2791], \"type\": \"box\", \"name\": 80, \"boxpoints\": false}, {\"y\": [22, 23, 34, 43, 48, 52, 56, 72, 87, 146, 147, 154, 250, 509, 1399, 1507, 1836, 4869, 53955], \"type\": \"box\", \"name\": 81, \"boxpoints\": false}, {\"y\": [28, 28, 36, 41, 41, 43, 53, 99, 124, 162, 227, 355, 363, 382, 512, 840, 1044, 1165, 1192, 1473, 3475, 4351, 5406], \"type\": \"box\", \"name\": 82, \"boxpoints\": false}, {\"y\": [27, 27, 27, 38, 39, 41, 42, 44, 57, 57, 69, 94, 106, 109, 163, 166, 168, 171, 250, 281, 336, 665, 750, 786, 832, 1828, 13445, 106744], \"type\": \"box\", \"name\": 83, \"boxpoints\": false}, {\"y\": [29, 34, 41, 42, 44, 50, 80, 96, 101, 106, 122, 138, 159, 167, 207, 390, 1373, 2790, 4964, 9748, 17833], \"type\": \"box\", \"name\": 84, \"boxpoints\": false}, {\"y\": [22, 22, 25, 29, 31, 34, 35, 55, 70, 71, 86, 89, 94, 108, 140, 266, 326, 449, 599, 614, 873, 2413, 4176, 8056], \"type\": \"box\", \"name\": 85, \"boxpoints\": false}, {\"y\": [22, 30, 36, 44, 57, 62, 64, 96, 135, 158, 340, 352, 499, 695, 842, 965, 15486, 18724], \"type\": \"box\", \"name\": 86, \"boxpoints\": false}, {\"y\": [28, 66, 84, 87, 97, 122, 142, 161, 575, 1171, 1270, 3919, 7636, 12503, 49917], \"type\": \"box\", \"name\": 87, \"boxpoints\": false}, {\"y\": [22, 29, 30, 32, 36, 36, 37, 39, 40, 42, 44, 105, 108, 116, 126, 152, 174, 189, 201, 296, 889, 1139, 1223, 1584, 1640, 2817, 3752, 9772], \"type\": \"box\", \"name\": 88, \"boxpoints\": false}, {\"y\": [21, 30, 43, 48, 53, 58, 78, 88, 94, 120, 122, 157, 183, 222, 574, 2550, 8045, 8695], \"type\": \"box\", \"name\": 89, \"boxpoints\": false}, {\"y\": [28, 35, 42, 42, 56, 74, 77, 92, 108, 128, 138, 142, 175, 182, 200, 1294, 1390, 1841, 2366, 8041, 10762], \"type\": \"box\", \"name\": 90, \"boxpoints\": false}, {\"y\": [24, 51, 54, 89, 108, 188, 218, 273, 282, 325, 357, 379, 1060, 1139, 1939, 2520, 3426, 4550, 9201], \"type\": \"box\", \"name\": 91, \"boxpoints\": false}, {\"y\": [30, 31, 31, 31, 33, 34, 35, 39, 43, 55, 59, 74, 77, 119, 125, 128, 136, 139, 153, 220, 370, 389, 438, 2164, 2806, 68963], \"type\": \"box\", \"name\": 92, \"boxpoints\": false}, {\"y\": [25, 33, 40, 60, 64, 65, 99, 103, 190, 201, 284, 332, 373, 428, 438, 439, 500, 541, 553, 722, 736, 1048, 1135, 4699, 5191, 9696], \"type\": \"box\", \"name\": 93, \"boxpoints\": false}, {\"y\": [20, 23, 29, 30, 38, 61, 75, 191, 245, 274, 657, 706, 3098, 3299], \"type\": \"box\", \"name\": 94, \"boxpoints\": false}, {\"y\": [22, 26, 27, 28, 30, 65, 223, 307, 321, 486, 910, 1569, 2133, 3883, 6233, 11566, 21650], \"type\": \"box\", \"name\": 95, \"boxpoints\": false}, {\"y\": [30, 47, 54, 67, 121, 139, 154, 165, 168, 215, 267, 305, 319, 330, 609, 1067, 1159, 1597, 2697, 3930, 5652, 37288], \"type\": \"box\", \"name\": 96, \"boxpoints\": false}, {\"y\": [44, 45, 47, 51, 53, 54, 54, 59, 85, 184, 192, 198, 1045, 1565, 2304, 17269], \"type\": \"box\", \"name\": 97, \"boxpoints\": false}, {\"y\": [72, 89, 176, 267, 297, 877, 24741], \"type\": \"box\", \"name\": 98, \"boxpoints\": false}, {\"y\": [282], \"type\": \"box\", \"name\": 99, \"boxpoints\": false}, {\"y\": [20, 21, 21, 22, 23, 24, 24, 25, 25, 26, 28, 30, 30, 32, 34, 34, 34, 35, 35, 41, 45, 55, 56, 235], \"type\": \"box\", \"name\": 100, \"boxpoints\": false}], {}, {\"linkText\": \"Export to plot.ly\", \"showLink\": true})});</script>"
      ]
     },
     "metadata": {},
     "output_type": "display_data"
    }
   ],
   "source": [
    "user_score_distribution = json.load(open('./dumps/user-score-distribution.json'))\n",
    "\n",
    "data = []\n",
    "\n",
    "for item in user_score_distribution:\n",
    "    if len(item['review_count']) > 0:\n",
    "        review_count = item['review_count']\n",
    "        data.append(\n",
    "            go.Box(\n",
    "                y=review_count,\n",
    "                name=item['score'],\n",
    "                boxpoints = False\n",
    "            )\n",
    "        )\n",
    "\n",
    "iplot(data)"
   ]
  },
  {
   "cell_type": "markdown",
   "metadata": {},
   "source": [
    "###### Updates\n",
    "\n",
    "The lowest amount of updates for a game is 2 (constrained), the highest is 490. The average is 35, and the median is 20."
   ]
  }
 ],
 "metadata": {
  "kernelspec": {
   "display_name": "Python 2",
   "language": "python",
   "name": "python2"
  },
  "language_info": {
   "codemirror_mode": {
    "name": "ipython",
    "version": 2
   },
   "file_extension": ".py",
   "mimetype": "text/x-python",
   "name": "python",
   "nbconvert_exporter": "python",
   "pygments_lexer": "ipython2",
   "version": "2.7.14"
  }
 },
 "nbformat": 4,
 "nbformat_minor": 2
}
