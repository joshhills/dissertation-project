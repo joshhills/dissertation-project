{
 "cells": [
  {
   "cell_type": "code",
   "execution_count": 3,
   "metadata": {},
   "outputs": [
    {
     "data": {
      "text/html": [
       "<script>requirejs.config({paths: { 'plotly': ['https://cdn.plot.ly/plotly-latest.min']},});if(!window.Plotly) {{require(['plotly'],function(plotly) {window.Plotly=plotly;});}}</script>"
      ],
      "text/vnd.plotly.v1+html": [
       "<script>requirejs.config({paths: { 'plotly': ['https://cdn.plot.ly/plotly-latest.min']},});if(!window.Plotly) {{require(['plotly'],function(plotly) {window.Plotly=plotly;});}}</script>"
      ]
     },
     "metadata": {},
     "output_type": "display_data"
    }
   ],
   "source": [
    "# Notebook-wide definitions.\n",
    "\n",
    "import json\n",
    "import numpy\n",
    "\n",
    "from plotly import __version__\n",
    "from plotly.offline import download_plotlyjs, init_notebook_mode, plot, iplot\n",
    "import plotly.graph_objs as go\n",
    "\n",
    "init_notebook_mode(connected=True)"
   ]
  },
  {
   "cell_type": "markdown",
   "metadata": {},
   "source": [
    "# Exploratory Data Analysis Overview\n",
    "\n",
    "## Contents\n",
    "\n",
    "- [Context](#Context)\n",
    "- [Model Definition](#Model-Definition)\n",
    "- [Assumptions](#Assumptions)\n",
    "- [Known Factors Influencing Data](#Known-Factors-Influencing-Data)\n",
    "- [Data Overview](#Data-Overview)\n",
    "\n",
    "## Context\n",
    "\n",
    "Simplified, the intention of the project is to improve the __['New Product Development'](https://en.wikipedia.org/wiki/New_product_development)__ (NPD) process of software; that is, to inform product owners and help them tune their release cycle to maximise their intended outcomes.\n",
    "\n",
    "My initial hypotheses are centric to potentially actionable outcomes. Resultantly, although many theories may be concocted about relationships within the data, I am focusing specifically on those for which their assertion could prove useful in the context of industrial lifecycle management. This explains the absence of some seemingly obvious or interesting open avenues of exploration, such as pricing. This is elaborated upon elsewhere.\n",
    "\n",
    "We use 'product' because the digital platform has expanded from just video games, and therefore there are products here that are software tools. This representation provides interesting avenues for exploration and comparison of findings; in addition to seeing if trends hold true for the entire sample set, we may posit why based on the kind of product it is.\n",
    "\n",
    "Products that have since migrated from early access are not included, however they represent in themselves a unique area of exploration - one would assume they were successful but the effects of the transition may vary.\n",
    "\n",
    "## Model Definition\n",
    "\n",
    "#### Users\n",
    "\n",
    "A *user* represents somebody who has purchased the product, and encompasses a set of interactions within this system including:\n",
    "- Using the product\n",
    "- Publishing reviews about the product\n",
    "\n",
    "#### Developers\n",
    "\n",
    "A *developer* represents somebody with control over a product's lifecycle-management, and encompasses a set of interactions within this system including:\n",
    "- Publishing updates to the product's listing\n",
    "- Publishing updates to the product itself\n",
    "\n",
    "#### Data Model\n",
    "\n",
    "I have collected product data from four discrete sources, which represent different categorical features. This should prove sufficient, however there are more kinds of data available.\n",
    "\n",
    "- Product listing\n",
    "- Product reviews\n",
    "- Product updates\n",
    "- Product useage\n",
    "\n",
    "##### Listing\n",
    "\n",
    "A *listing* discerns it from other products. They are stored in the 'store' bucket (the discrepancy in nomenclature is explained in source. The fields are not largely subject to change. Each may have multiple 'genres', referred to also as 'categories' or 'tags'.\n",
    "\n",
    "```json\n",
    "{\n",
    "  \"date_released\": \"8 Nov, 2013\",\n",
    "  \"genres\": [\n",
    "    \"Indie\",\n",
    "    \"RPG\",\n",
    "    \"Simulation\",\n",
    "    \"Early Access\"\n",
    "  ],\n",
    "  \"is_free\": false,\n",
    "  \"metacritic_score\": \"68\",\n",
    "  \"name\": \"Example Product\",\n",
    "  \"owners\": 872046,\n",
    "  \"players_average_forever\": 1231,\n",
    "  \"players_forever\": 837417,\n",
    "  \"players_median_forever\": 391,\n",
    "  \"price\": \"1499\",\n",
    "  \"product_id\": \"108600\",\n",
    "  \"score_rank\": 65,\n",
    "  \"user_score\": 86\n",
    "}\n",
    "```\n",
    "\n",
    "##### Review\n",
    "\n",
    "A *review* represents a pre-classified unit of sentiment, one-per user. It also contains some flattened information about the user.\n",
    "\n",
    "```json\n",
    "{\n",
    "  \"author_id\": \"76561682049575891\",\n",
    "  \"author_last_played\": 1475862888,\n",
    "  \"author_num_games_owned\": 90,\n",
    "  \"author_num_reviews\": 3,\n",
    "  \"author_total_playtime\": 623,\n",
    "  \"date_created\": 1399060157,\n",
    "  \"language\": \"english\",\n",
    "  \"product_id\": \"284850\",\n",
    "  \"received_for_free\": false,\n",
    "  \"recommendation_id\": \"16000027\",\n",
    "  \"review_length\": 122,\n",
    "  \"voted_up\": true,\n",
    "  \"votes_funny\": 0,\n",
    "  \"votes_up\": 0,\n",
    "  \"written_during_early_access\": true\n",
    "}\n",
    "```\n",
    "\n",
    "##### Update\n",
    "\n",
    "An *update* is a modification to the product at a point in time.\n",
    "\n",
    "```json\n",
    "{\n",
    "  \"date_created\": 1387226838,\n",
    "  \"feed_name\": \"steam_community_announcements\",\n",
    "  \"product_id\": \"2281001,\n",
    "  \"update_id\": \"1999102271521259752\"\n",
    "}\n",
    "```\n",
    "\n",
    "##### Usage\n",
    "\n",
    "*Usage* refers to active time spent using the product. This is represented as daily concurrent users since the product's release. It has been flattened and denormalized to promote speed, and can be indexed using a function of the start time and step as a unix epoch.\n",
    "\n",
    "```json\n",
    "{\n",
    "  \"product_id\": \"593440\",\n",
    "  \"start\": \"1366834400\",\n",
    "  \"step\": \"86400\",\n",
    "  \"values\": \"[1, 16, 31, 46, 61, 76, 91, 106 ... 13]\"\n",
    "}\n",
    "```\n",
    "\n",
    "## Assumptions\n",
    "\n",
    "TODO: Revisit\n",
    "\n",
    "Since the problem contains many moving parts, there are aspects of the available data that can be compounded or ignored for the sake of simplicity (this may reduce the accuracy and efficacy of the results). I will attempt to mitigate the negative consequences of these assumptions where possible.\n",
    "\n",
    "- There are a set of actions that may be undertaken during the product's lifecycle, which are constrained by this system. These actions have, for now, been reduced to publishing a product update as the only action of importance. \n",
    "\n",
    "- The contents of a review are unimportant (although I do log the length of a review).\n",
    "\n",
    "- It is sensible to define a *positive* interaction is one that increases user engagement with the product. This may take the form of more owners, reviews, an increase in time spent using it etc. We assume that this is desirable.\n",
    "\n",
    "- It is reasonable to disregard the classification of an update in favour of it simply having happened. Any further qualifications of its type and content are ignored, as the incredible variance in their meta descriptions (represented chiefly through  __['changelogs'](https://en.wikipedia.org/wiki/Changelog)__) would likely require an impossible amount of manual investigation. As the systems developers have access to to publish updates are not restrictive, it is possible that an 'update' may not actually represent an update in the sense that I am seeking, and measures have been taken to minimise the risk of this: from a cursory trawl through the endpoint used, it seems that for my sample set the vast majority of developers are exclusively tagging updates as \"community_announcement\", which has resultantly been used as a filter during collection. \n",
    "\n",
    "## Known Factors Influencing Data\n",
    "\n",
    "TODO: Revisit\n",
    "\n",
    "There are factors that may infuence and furthermore corrupt the data. I will attempt to conduct changepoint analysis in order waylay this, and otherwise keep them in mind when investigating anomolies or unexpected results. They are listed here for posterity.\n",
    "\n",
    "- The date influences CCU (localised seasonal effect) - it spikes at weekends, and drops during weekdays when users are otherwise at work. Furthermore, owners of the system can encourage user engagement, for example through community challenges.\n",
    "\n",
    "- Price changes influence CCU and review sentiment - a decrease in price is correlative to a spike in users and positive review scores.\n",
    "\n",
    "- External publicity of a product may have implications on any aspect of the data; 'review bombing' sees an increase in negative reviews when the product is attached to controversy irrespective of itself.\n",
    "\n",
    "## Data Overview\n",
    "\n",
    "#### Overview\n",
    "\n",
    "The sample set after collection and culling is tailored to my investigation. Although the exact mechanical steps have not been explicitly logged, the software used for collection is open sourced, and a database snapshot (backup) can be provided upon request.\n",
    "\n",
    "I have collected:\n",
    "- 977 listing\n",
    "- 1,533,188 reviews\n",
    "- 33,934 updates\n",
    "- Usage information for all listings\n",
    "\n",
    "#### Representation\n",
    "\n",
    "Representation, there are 23 genres (sans 'early access'). Understandably, most games are tagged as 'indie', meaning independently published. As there are a limited amount of tags per game, it is reasonable to assume that all products are 'independent' (most publishers forego 'early access' as a release strategy as their purpose is to circumvent it) and some have simply forgotten or opted to not tag themselves as 'indie'. There are 942 video games and 35 software products."
   ]
  },
  {
   "cell_type": "code",
   "execution_count": 7,
   "metadata": {},
   "outputs": [
    {
     "data": {
      "application/vnd.plotly.v1+json": {
       "data": [
        {
         "type": "bar",
         "x": [
          "Indie",
          "Action",
          "Simulation",
          "Adventure",
          "Strategy",
          "RPG",
          "Casual",
          "Massively Multiplayer",
          "Free to Play",
          "Violent",
          "Sports",
          "Gore",
          "Racing",
          "Nudity",
          "Utilities",
          "Design & Illustration",
          "Animation & Modeling",
          "Sexual Content",
          "Audio Production",
          "Education",
          "Video Production",
          "Software Training",
          "Web Publishing"
         ],
         "y": [
          805,
          588,
          333,
          327,
          274,
          273,
          197,
          101,
          88,
          84,
          67,
          56,
          50,
          12,
          11,
          8,
          7,
          6,
          4,
          3,
          3,
          1,
          1
         ]
        }
       ],
       "layout": {
        "showlegend": false,
        "title": "Genre Representation",
        "xaxis": {
         "title": "Genre"
        },
        "yaxis": {
         "title": "Count"
        }
       }
      },
      "text/html": [
       "<div id=\"645270b6-bbdd-4c4f-9bdd-f416702b4a80\" style=\"height: 525px; width: 100%;\" class=\"plotly-graph-div\"></div><script type=\"text/javascript\">require([\"plotly\"], function(Plotly) { window.PLOTLYENV=window.PLOTLYENV || {};window.PLOTLYENV.BASE_URL=\"https://plot.ly\";Plotly.newPlot(\"645270b6-bbdd-4c4f-9bdd-f416702b4a80\", [{\"type\": \"bar\", \"x\": [\"Indie\", \"Action\", \"Simulation\", \"Adventure\", \"Strategy\", \"RPG\", \"Casual\", \"Massively Multiplayer\", \"Free to Play\", \"Violent\", \"Sports\", \"Gore\", \"Racing\", \"Nudity\", \"Utilities\", \"Design & Illustration\", \"Animation & Modeling\", \"Sexual Content\", \"Audio Production\", \"Education\", \"Video Production\", \"Software Training\", \"Web Publishing\"], \"y\": [805, 588, 333, 327, 274, 273, 197, 101, 88, 84, 67, 56, 50, 12, 11, 8, 7, 6, 4, 3, 3, 1, 1]}], {\"title\": \"Genre Representation\", \"xaxis\": {\"title\": \"Genre\"}, \"yaxis\": {\"title\": \"Count\"}, \"showlegend\": false}, {\"showLink\": true, \"linkText\": \"Export to plot.ly\"})});</script>"
      ],
      "text/vnd.plotly.v1+html": [
       "<div id=\"645270b6-bbdd-4c4f-9bdd-f416702b4a80\" style=\"height: 525px; width: 100%;\" class=\"plotly-graph-div\"></div><script type=\"text/javascript\">require([\"plotly\"], function(Plotly) { window.PLOTLYENV=window.PLOTLYENV || {};window.PLOTLYENV.BASE_URL=\"https://plot.ly\";Plotly.newPlot(\"645270b6-bbdd-4c4f-9bdd-f416702b4a80\", [{\"type\": \"bar\", \"x\": [\"Indie\", \"Action\", \"Simulation\", \"Adventure\", \"Strategy\", \"RPG\", \"Casual\", \"Massively Multiplayer\", \"Free to Play\", \"Violent\", \"Sports\", \"Gore\", \"Racing\", \"Nudity\", \"Utilities\", \"Design & Illustration\", \"Animation & Modeling\", \"Sexual Content\", \"Audio Production\", \"Education\", \"Video Production\", \"Software Training\", \"Web Publishing\"], \"y\": [805, 588, 333, 327, 274, 273, 197, 101, 88, 84, 67, 56, 50, 12, 11, 8, 7, 6, 4, 3, 3, 1, 1]}], {\"title\": \"Genre Representation\", \"xaxis\": {\"title\": \"Genre\"}, \"yaxis\": {\"title\": \"Count\"}, \"showlegend\": false}, {\"showLink\": true, \"linkText\": \"Export to plot.ly\"})});</script>"
      ]
     },
     "metadata": {},
     "output_type": "display_data"
    }
   ],
   "source": [
    "product_categories = json.load(open('./dumps/genres.json'))\n",
    "\n",
    "# Sort to make better in display.\n",
    "product_categories.sort(key=lambda t: t['count'], reverse=True)\n",
    "\n",
    "x = []\n",
    "y = []\n",
    "\n",
    "for category in product_categories:\n",
    "    x.append(category['genre'])\n",
    "    y.append(category['count'])\n",
    "    \n",
    "layout = go.Layout(\n",
    "    title='Genre Representation',\n",
    "    xaxis=dict(\n",
    "        title=\"Genre\"\n",
    "    ),\n",
    "    yaxis=dict(\n",
    "        title=\"Count\"\n",
    "    ),\n",
    "    showlegend=False\n",
    ")   \n",
    "\n",
    "data = [go.Bar(\n",
    "    x=x,\n",
    "    y=y\n",
    ")]\n",
    "\n",
    "fig = go.Figure(data=data, layout=layout)\n",
    "\n",
    "iplot(fig)"
   ]
  },
  {
   "cell_type": "markdown",
   "metadata": {},
   "source": [
    "#### Age\n",
    "\n",
    "In a playable state according to daily CCU usage, the product released longest ago is \"Airmech Strike\" on 08/11/2012. The product released closest to now is \"Rise Of Industry\", on 09/02/2018.\n",
    "\n",
    "The range spans 5 years, 3 months and 1 days.\n",
    "\n",
    "#### Distribution\n",
    "\n",
    "###### Reviews\n",
    "\n",
    "As the largest dataset, the lowest amount of reviews for a game is 20 (constrained), and the highest is 139,867. The average (less helpful here) is 1569, and the median is 122.\n",
    "\n",
    "###### Sentiment\n",
    "\n",
    "User scores range from 0 to 100. The average userscore is 72, and the median is 75.\n",
    "\n",
    "It is important to note that products with scores at the lowest and highest percentiles have had less reviews (see below). The largest deviation at ~60 is likely explained by the polarity of popular games."
   ]
  },
  {
   "cell_type": "code",
   "execution_count": 5,
   "metadata": {},
   "outputs": [
    {
     "data": {
      "application/vnd.plotly.v1+json": {
       "data": [
        {
         "name": 0,
         "type": "box",
         "x": 0,
         "y": [
          21,
          21,
          22,
          26,
          27,
          29,
          40,
          41,
          85
         ]
        },
        {
         "name": 9,
         "type": "box",
         "x": 9,
         "y": [
          25
         ]
        },
        {
         "name": 10,
         "type": "box",
         "x": 10,
         "y": [
          229
         ]
        },
        {
         "name": 17,
         "type": "box",
         "x": 17,
         "y": [
          198,
          501
         ]
        },
        {
         "name": 18,
         "type": "box",
         "x": 18,
         "y": [
          71,
          99
         ]
        },
        {
         "name": 20,
         "type": "box",
         "x": 20,
         "y": [
          25,
          39,
          76,
          141,
          247
         ]
        },
        {
         "name": 21,
         "type": "box",
         "x": 21,
         "y": [
          1312
         ]
        },
        {
         "name": 22,
         "type": "box",
         "x": 22,
         "y": [
          146
         ]
        },
        {
         "name": 23,
         "type": "box",
         "x": 23,
         "y": [
          22,
          26,
          34
         ]
        },
        {
         "name": 25,
         "type": "box",
         "x": 25,
         "y": [
          24,
          48,
          50,
          83,
          377
         ]
        },
        {
         "name": 26,
         "type": "box",
         "x": 26,
         "y": [
          62
         ]
        },
        {
         "name": 27,
         "type": "box",
         "x": 27,
         "y": [
          42,
          81
         ]
        },
        {
         "name": 28,
         "type": "box",
         "x": 28,
         "y": [
          45,
          49,
          116,
          178,
          6470
         ]
        },
        {
         "name": 29,
         "type": "box",
         "x": 29,
         "y": [
          20,
          324
         ]
        },
        {
         "name": 30,
         "type": "box",
         "x": 30,
         "y": [
          21,
          26,
          73,
          125,
          247,
          457
         ]
        },
        {
         "name": 31,
         "type": "box",
         "x": 31,
         "y": [
          80,
          165
         ]
        },
        {
         "name": 32,
         "type": "box",
         "x": 32,
         "y": [
          274
         ]
        },
        {
         "name": 33,
         "type": "box",
         "x": 33,
         "y": [
          28,
          65,
          93
         ]
        },
        {
         "name": 34,
         "type": "box",
         "x": 34,
         "y": [
          175,
          3626
         ]
        },
        {
         "name": 35,
         "type": "box",
         "x": 35,
         "y": [
          42,
          50,
          77
         ]
        },
        {
         "name": 37,
         "type": "box",
         "x": 37,
         "y": [
          38,
          46,
          134,
          789
         ]
        },
        {
         "name": 38,
         "type": "box",
         "x": 38,
         "y": [
          29,
          37,
          60,
          93,
          94,
          137
         ]
        },
        {
         "name": 39,
         "type": "box",
         "x": 39,
         "y": [
          578
         ]
        },
        {
         "name": 40,
         "type": "box",
         "x": 40,
         "y": [
          27,
          49,
          77,
          82,
          96
         ]
        },
        {
         "name": 41,
         "type": "box",
         "x": 41,
         "y": [
          44,
          121,
          1452
         ]
        },
        {
         "name": 42,
         "type": "box",
         "x": 42,
         "y": [
          37,
          104
         ]
        },
        {
         "name": 43,
         "type": "box",
         "x": 43,
         "y": [
          90,
          164,
          626,
          698,
          1686
         ]
        },
        {
         "name": 44,
         "type": "box",
         "x": 44,
         "y": [
          170,
          492,
          1230
         ]
        },
        {
         "name": 45,
         "type": "box",
         "x": 45,
         "y": [
          23,
          31,
          47,
          50,
          62,
          73,
          79,
          89,
          197,
          230,
          774,
          849,
          1535
         ]
        },
        {
         "name": 46,
         "type": "box",
         "x": 46,
         "y": [
          25,
          30,
          41,
          42,
          144,
          253,
          3435
         ]
        },
        {
         "name": 47,
         "type": "box",
         "x": 47,
         "y": [
          25,
          27,
          30,
          38,
          63,
          1061
         ]
        },
        {
         "name": 48,
         "type": "box",
         "x": 48,
         "y": [
          67,
          70,
          78,
          148,
          156,
          164,
          403,
          1932
         ]
        },
        {
         "name": 49,
         "type": "box",
         "x": 49,
         "y": [
          74,
          93,
          344,
          633,
          850,
          1125,
          3101
         ]
        },
        {
         "name": 50,
         "type": "box",
         "x": 50,
         "y": [
          22,
          22,
          23,
          26,
          28,
          31,
          32,
          47,
          69,
          75,
          100,
          104,
          191,
          197,
          411,
          465,
          1064
         ]
        },
        {
         "name": 51,
         "type": "box",
         "x": 51,
         "y": [
          35,
          78,
          92,
          104,
          236,
          358,
          16326
         ]
        },
        {
         "name": 52,
         "type": "box",
         "x": 52,
         "y": [
          24,
          39,
          63,
          89,
          127,
          1340,
          7214
         ]
        },
        {
         "name": 53,
         "type": "box",
         "x": 53,
         "y": [
          25,
          45,
          61,
          75,
          84,
          89,
          185,
          963,
          1879
         ]
        },
        {
         "name": 54,
         "type": "box",
         "x": 54,
         "y": [
          33,
          36,
          46,
          82,
          88,
          239,
          305,
          624,
          6689
         ]
        },
        {
         "name": 55,
         "type": "box",
         "x": 55,
         "y": [
          34,
          80,
          89,
          101,
          108,
          147,
          190,
          207,
          626,
          740,
          1971,
          5496
         ]
        },
        {
         "name": 56,
         "type": "box",
         "x": 56,
         "y": [
          20,
          140,
          152,
          169,
          202,
          267,
          690
         ]
        },
        {
         "name": 57,
         "type": "box",
         "x": 57,
         "y": [
          23,
          24,
          76,
          105,
          150,
          239,
          252,
          606,
          5981
         ]
        },
        {
         "name": 58,
         "type": "box",
         "x": 58,
         "y": [
          34,
          44,
          48,
          60,
          79,
          90,
          91,
          102,
          121,
          138,
          220,
          1019,
          2007,
          24286
         ]
        },
        {
         "name": 59,
         "type": "box",
         "x": 59,
         "y": [
          41,
          76,
          158,
          527,
          665,
          2051,
          13912
         ]
        },
        {
         "name": 60,
         "type": "box",
         "x": 60,
         "y": [
          20,
          33,
          66,
          79,
          123,
          253,
          1168,
          2962,
          67341
         ]
        },
        {
         "name": 61,
         "type": "box",
         "x": 61,
         "y": [
          20,
          25,
          69,
          107,
          279,
          453,
          639,
          662,
          1527
         ]
        },
        {
         "name": 62,
         "type": "box",
         "x": 62,
         "y": [
          20,
          41,
          58,
          61,
          118,
          131,
          137,
          144,
          155,
          192,
          305,
          126642,
          139867
         ]
        },
        {
         "name": 63,
         "type": "box",
         "x": 63,
         "y": [
          36,
          42,
          59,
          60,
          66,
          72,
          144,
          180,
          251,
          1155,
          5930,
          15470
         ]
        },
        {
         "name": 64,
         "type": "box",
         "x": 64,
         "y": [
          22,
          45,
          52,
          52,
          105,
          432,
          1121,
          1414,
          2084,
          2287,
          7362
         ]
        },
        {
         "name": 65,
         "type": "box",
         "x": 65,
         "y": [
          23,
          26,
          34,
          41,
          42,
          43,
          47,
          51,
          52,
          63,
          87,
          157,
          205,
          208,
          293,
          505,
          821,
          2964,
          4180,
          7534
         ]
        },
        {
         "name": 66,
         "type": "box",
         "x": 66,
         "y": [
          20,
          25,
          31,
          34,
          36,
          37,
          37,
          40,
          45,
          47,
          60,
          73,
          82,
          104,
          317,
          505,
          1724
         ]
        },
        {
         "name": 67,
         "type": "box",
         "x": 67,
         "y": [
          29,
          33,
          46,
          54,
          64,
          67,
          67,
          161,
          170,
          338,
          388,
          456,
          983,
          1101,
          3033,
          4056,
          6422
         ]
        },
        {
         "name": 68,
         "type": "box",
         "x": 68,
         "y": [
          54,
          55,
          67,
          68,
          75,
          97,
          107,
          119,
          260,
          264,
          267,
          284,
          428,
          450,
          1020,
          2983,
          5735
         ]
        },
        {
         "name": 69,
         "type": "box",
         "x": 69,
         "y": [
          48,
          53,
          64,
          95,
          110,
          136,
          142,
          165,
          197,
          236,
          270,
          309,
          313,
          431,
          540,
          1272,
          9876,
          21738
         ]
        },
        {
         "name": 70,
         "type": "box",
         "x": 70,
         "y": [
          29,
          30,
          31,
          31,
          35,
          35,
          70,
          79,
          80,
          92,
          96,
          96,
          128,
          136,
          276,
          297,
          412,
          499,
          1007,
          1815,
          3927,
          4035,
          7705
         ]
        },
        {
         "name": 71,
         "type": "box",
         "x": 71,
         "y": [
          29,
          42,
          49,
          109,
          199,
          549,
          689,
          999,
          1314,
          2451
         ]
        },
        {
         "name": 72,
         "type": "box",
         "x": 72,
         "y": [
          23,
          29,
          30,
          33,
          34,
          35,
          54,
          69,
          71,
          86,
          112,
          114,
          270,
          348,
          370,
          700,
          990,
          1021,
          1294,
          2836
         ]
        },
        {
         "name": 73,
         "type": "box",
         "x": 73,
         "y": [
          21,
          22,
          31,
          43,
          45,
          60,
          68,
          71,
          120,
          125,
          125,
          141,
          175,
          196,
          261,
          280,
          294,
          296,
          644,
          676,
          694,
          1669,
          2491,
          20047
         ]
        },
        {
         "name": 74,
         "type": "box",
         "x": 74,
         "y": [
          27,
          32,
          34,
          35,
          40,
          63,
          75,
          80,
          91,
          105,
          106,
          131,
          221,
          262,
          394,
          713,
          815,
          960,
          1302,
          1937
         ]
        },
        {
         "name": 75,
         "type": "box",
         "x": 75,
         "y": [
          22,
          25,
          25,
          25,
          27,
          31,
          35,
          43,
          48,
          48,
          61,
          147,
          235,
          236,
          251,
          263,
          297,
          336,
          396,
          599,
          799,
          921,
          943,
          1149,
          1295,
          2843
         ]
        },
        {
         "name": 76,
         "type": "box",
         "x": 76,
         "y": [
          28,
          31,
          33,
          53,
          56,
          109,
          183,
          184,
          218,
          264,
          392,
          632,
          912,
          1194,
          1295,
          16797,
          18183
         ]
        },
        {
         "name": 77,
         "type": "box",
         "x": 77,
         "y": [
          23,
          24,
          33,
          37,
          40,
          46,
          49,
          60,
          62,
          65,
          69,
          81,
          92,
          93,
          97,
          142,
          155,
          241,
          266,
          405,
          1566,
          1570,
          2088
         ]
        },
        {
         "name": 78,
         "type": "box",
         "x": 78,
         "y": [
          30,
          31,
          33,
          40,
          45,
          58,
          60,
          65,
          65,
          73,
          163,
          163,
          167,
          168,
          220,
          259,
          315,
          580,
          629,
          777,
          1177,
          1186,
          1256,
          1906
         ]
        },
        {
         "name": 79,
         "type": "box",
         "x": 79,
         "y": [
          59,
          81,
          83,
          86,
          113,
          243,
          304,
          343,
          469,
          841,
          1983,
          2841
         ]
        },
        {
         "name": 80,
         "type": "box",
         "x": 80,
         "y": [
          20,
          22,
          26,
          27,
          29,
          31,
          33,
          36,
          39,
          51,
          53,
          81,
          202,
          215,
          240,
          247,
          287,
          449,
          516,
          548,
          1080,
          2582,
          2791
         ]
        },
        {
         "name": 81,
         "type": "box",
         "x": 81,
         "y": [
          22,
          23,
          34,
          43,
          48,
          52,
          56,
          72,
          87,
          146,
          147,
          154,
          250,
          509,
          1399,
          1507,
          1836,
          4869,
          53955
         ]
        },
        {
         "name": 82,
         "type": "box",
         "x": 82,
         "y": [
          28,
          28,
          36,
          41,
          41,
          43,
          53,
          99,
          124,
          162,
          227,
          355,
          363,
          382,
          512,
          840,
          1044,
          1165,
          1192,
          1473,
          3475,
          4351,
          5406
         ]
        },
        {
         "name": 83,
         "type": "box",
         "x": 83,
         "y": [
          27,
          27,
          27,
          38,
          39,
          41,
          42,
          44,
          57,
          57,
          69,
          94,
          106,
          109,
          163,
          166,
          168,
          171,
          250,
          281,
          336,
          665,
          750,
          786,
          832,
          1828,
          13445,
          106744
         ]
        },
        {
         "name": 84,
         "type": "box",
         "x": 84,
         "y": [
          29,
          34,
          41,
          42,
          44,
          50,
          80,
          96,
          101,
          106,
          122,
          138,
          159,
          167,
          207,
          390,
          1373,
          2790,
          4964,
          9748,
          17833
         ]
        },
        {
         "name": 85,
         "type": "box",
         "x": 85,
         "y": [
          22,
          22,
          25,
          29,
          31,
          34,
          35,
          55,
          70,
          71,
          86,
          89,
          94,
          108,
          140,
          266,
          326,
          449,
          599,
          614,
          873,
          2413,
          4176,
          8056
         ]
        },
        {
         "name": 86,
         "type": "box",
         "x": 86,
         "y": [
          22,
          30,
          36,
          44,
          57,
          62,
          64,
          96,
          135,
          158,
          340,
          352,
          499,
          695,
          842,
          965,
          15486,
          18724
         ]
        },
        {
         "name": 87,
         "type": "box",
         "x": 87,
         "y": [
          28,
          66,
          84,
          87,
          97,
          122,
          142,
          161,
          575,
          1171,
          1270,
          3919,
          7636,
          12503,
          49917
         ]
        },
        {
         "name": 88,
         "type": "box",
         "x": 88,
         "y": [
          22,
          29,
          30,
          32,
          36,
          36,
          37,
          39,
          40,
          42,
          44,
          105,
          108,
          116,
          126,
          152,
          174,
          189,
          201,
          296,
          889,
          1139,
          1223,
          1584,
          1640,
          2817,
          3752,
          9772
         ]
        },
        {
         "name": 89,
         "type": "box",
         "x": 89,
         "y": [
          21,
          30,
          43,
          48,
          53,
          58,
          78,
          88,
          94,
          120,
          122,
          157,
          183,
          222,
          574,
          2550,
          8045,
          8695
         ]
        },
        {
         "name": 90,
         "type": "box",
         "x": 90,
         "y": [
          28,
          35,
          42,
          42,
          56,
          74,
          77,
          92,
          108,
          128,
          138,
          142,
          175,
          182,
          200,
          1294,
          1390,
          1841,
          2366,
          8041,
          10762
         ]
        },
        {
         "name": 91,
         "type": "box",
         "x": 91,
         "y": [
          24,
          51,
          54,
          89,
          108,
          188,
          218,
          273,
          282,
          325,
          357,
          379,
          1060,
          1139,
          1939,
          2520,
          3426,
          4550,
          9201
         ]
        },
        {
         "name": 92,
         "type": "box",
         "x": 92,
         "y": [
          30,
          31,
          31,
          31,
          33,
          34,
          35,
          39,
          43,
          55,
          59,
          74,
          77,
          119,
          125,
          128,
          136,
          139,
          153,
          220,
          370,
          389,
          438,
          2164,
          2806,
          68963
         ]
        },
        {
         "name": 93,
         "type": "box",
         "x": 93,
         "y": [
          25,
          33,
          40,
          60,
          64,
          65,
          99,
          103,
          190,
          201,
          284,
          332,
          373,
          428,
          438,
          439,
          500,
          541,
          553,
          722,
          736,
          1048,
          1135,
          4699,
          5191,
          9696
         ]
        },
        {
         "name": 94,
         "type": "box",
         "x": 94,
         "y": [
          20,
          23,
          29,
          30,
          38,
          61,
          75,
          191,
          245,
          274,
          657,
          706,
          3098,
          3299
         ]
        },
        {
         "name": 95,
         "type": "box",
         "x": 95,
         "y": [
          22,
          26,
          27,
          28,
          30,
          65,
          223,
          307,
          321,
          486,
          910,
          1569,
          2133,
          3883,
          6233,
          11566,
          21650
         ]
        },
        {
         "name": 96,
         "type": "box",
         "x": 96,
         "y": [
          30,
          47,
          54,
          67,
          121,
          139,
          154,
          165,
          168,
          215,
          267,
          305,
          319,
          330,
          609,
          1067,
          1159,
          1597,
          2697,
          3930,
          5652,
          37288
         ]
        },
        {
         "name": 97,
         "type": "box",
         "x": 97,
         "y": [
          44,
          45,
          47,
          51,
          53,
          54,
          54,
          59,
          85,
          184,
          192,
          198,
          1045,
          1565,
          2304,
          17269
         ]
        },
        {
         "name": 98,
         "type": "box",
         "x": 98,
         "y": [
          72,
          89,
          176,
          267,
          297,
          877,
          24741
         ]
        },
        {
         "name": 99,
         "type": "box",
         "x": 99,
         "y": [
          282
         ]
        },
        {
         "name": 100,
         "type": "box",
         "x": 100,
         "y": [
          20,
          21,
          21,
          22,
          23,
          24,
          24,
          25,
          25,
          26,
          28,
          30,
          30,
          32,
          34,
          34,
          34,
          35,
          35,
          41,
          45,
          55,
          56,
          235
         ]
        }
       ],
       "layout": {
        "showlegend": false,
        "title": "User Scores and Reviews",
        "xaxis": {
         "title": "User Score"
        },
        "yaxis": {
         "title": "Review Count"
        }
       }
      },
      "text/html": [
       "<div id=\"e8ebc05d-77ac-49d6-ada1-f7b730c45ee0\" style=\"height: 525px; width: 100%;\" class=\"plotly-graph-div\"></div><script type=\"text/javascript\">require([\"plotly\"], function(Plotly) { window.PLOTLYENV=window.PLOTLYENV || {};window.PLOTLYENV.BASE_URL=\"https://plot.ly\";Plotly.newPlot(\"e8ebc05d-77ac-49d6-ada1-f7b730c45ee0\", [{\"type\": \"box\", \"y\": [21, 21, 22, 26, 27, 29, 40, 41, 85], \"x\": 0, \"name\": 0}, {\"type\": \"box\", \"y\": [25], \"x\": 9, \"name\": 9}, {\"type\": \"box\", \"y\": [229], \"x\": 10, \"name\": 10}, {\"type\": \"box\", \"y\": [198, 501], \"x\": 17, \"name\": 17}, {\"type\": \"box\", \"y\": [71, 99], \"x\": 18, \"name\": 18}, {\"type\": \"box\", \"y\": [25, 39, 76, 141, 247], \"x\": 20, \"name\": 20}, {\"type\": \"box\", \"y\": [1312], \"x\": 21, \"name\": 21}, {\"type\": \"box\", \"y\": [146], \"x\": 22, \"name\": 22}, {\"type\": \"box\", \"y\": [22, 26, 34], \"x\": 23, \"name\": 23}, {\"type\": \"box\", \"y\": [24, 48, 50, 83, 377], \"x\": 25, \"name\": 25}, {\"type\": \"box\", \"y\": [62], \"x\": 26, \"name\": 26}, {\"type\": \"box\", \"y\": [42, 81], \"x\": 27, \"name\": 27}, {\"type\": \"box\", \"y\": [45, 49, 116, 178, 6470], \"x\": 28, \"name\": 28}, {\"type\": \"box\", \"y\": [20, 324], \"x\": 29, \"name\": 29}, {\"type\": \"box\", \"y\": [21, 26, 73, 125, 247, 457], \"x\": 30, \"name\": 30}, {\"type\": \"box\", \"y\": [80, 165], \"x\": 31, \"name\": 31}, {\"type\": \"box\", \"y\": [274], \"x\": 32, \"name\": 32}, {\"type\": \"box\", \"y\": [28, 65, 93], \"x\": 33, \"name\": 33}, {\"type\": \"box\", \"y\": [175, 3626], \"x\": 34, \"name\": 34}, {\"type\": \"box\", \"y\": [42, 50, 77], \"x\": 35, \"name\": 35}, {\"type\": \"box\", \"y\": [38, 46, 134, 789], \"x\": 37, \"name\": 37}, {\"type\": \"box\", \"y\": [29, 37, 60, 93, 94, 137], \"x\": 38, \"name\": 38}, {\"type\": \"box\", \"y\": [578], \"x\": 39, \"name\": 39}, {\"type\": \"box\", \"y\": [27, 49, 77, 82, 96], \"x\": 40, \"name\": 40}, {\"type\": \"box\", \"y\": [44, 121, 1452], \"x\": 41, \"name\": 41}, {\"type\": \"box\", \"y\": [37, 104], \"x\": 42, \"name\": 42}, {\"type\": \"box\", \"y\": [90, 164, 626, 698, 1686], \"x\": 43, \"name\": 43}, {\"type\": \"box\", \"y\": [170, 492, 1230], \"x\": 44, \"name\": 44}, {\"type\": \"box\", \"y\": [23, 31, 47, 50, 62, 73, 79, 89, 197, 230, 774, 849, 1535], \"x\": 45, \"name\": 45}, {\"type\": \"box\", \"y\": [25, 30, 41, 42, 144, 253, 3435], \"x\": 46, \"name\": 46}, {\"type\": \"box\", \"y\": [25, 27, 30, 38, 63, 1061], \"x\": 47, \"name\": 47}, {\"type\": \"box\", \"y\": [67, 70, 78, 148, 156, 164, 403, 1932], \"x\": 48, \"name\": 48}, {\"type\": \"box\", \"y\": [74, 93, 344, 633, 850, 1125, 3101], \"x\": 49, \"name\": 49}, {\"type\": \"box\", \"y\": [22, 22, 23, 26, 28, 31, 32, 47, 69, 75, 100, 104, 191, 197, 411, 465, 1064], \"x\": 50, \"name\": 50}, {\"type\": \"box\", \"y\": [35, 78, 92, 104, 236, 358, 16326], \"x\": 51, \"name\": 51}, {\"type\": \"box\", \"y\": [24, 39, 63, 89, 127, 1340, 7214], \"x\": 52, \"name\": 52}, {\"type\": \"box\", \"y\": [25, 45, 61, 75, 84, 89, 185, 963, 1879], \"x\": 53, \"name\": 53}, {\"type\": \"box\", \"y\": [33, 36, 46, 82, 88, 239, 305, 624, 6689], \"x\": 54, \"name\": 54}, {\"type\": \"box\", \"y\": [34, 80, 89, 101, 108, 147, 190, 207, 626, 740, 1971, 5496], \"x\": 55, \"name\": 55}, {\"type\": \"box\", \"y\": [20, 140, 152, 169, 202, 267, 690], \"x\": 56, \"name\": 56}, {\"type\": \"box\", \"y\": [23, 24, 76, 105, 150, 239, 252, 606, 5981], \"x\": 57, \"name\": 57}, {\"type\": \"box\", \"y\": [34, 44, 48, 60, 79, 90, 91, 102, 121, 138, 220, 1019, 2007, 24286], \"x\": 58, \"name\": 58}, {\"type\": \"box\", \"y\": [41, 76, 158, 527, 665, 2051, 13912], \"x\": 59, \"name\": 59}, {\"type\": \"box\", \"y\": [20, 33, 66, 79, 123, 253, 1168, 2962, 67341], \"x\": 60, \"name\": 60}, {\"type\": \"box\", \"y\": [20, 25, 69, 107, 279, 453, 639, 662, 1527], \"x\": 61, \"name\": 61}, {\"type\": \"box\", \"y\": [20, 41, 58, 61, 118, 131, 137, 144, 155, 192, 305, 126642, 139867], \"x\": 62, \"name\": 62}, {\"type\": \"box\", \"y\": [36, 42, 59, 60, 66, 72, 144, 180, 251, 1155, 5930, 15470], \"x\": 63, \"name\": 63}, {\"type\": \"box\", \"y\": [22, 45, 52, 52, 105, 432, 1121, 1414, 2084, 2287, 7362], \"x\": 64, \"name\": 64}, {\"type\": \"box\", \"y\": [23, 26, 34, 41, 42, 43, 47, 51, 52, 63, 87, 157, 205, 208, 293, 505, 821, 2964, 4180, 7534], \"x\": 65, \"name\": 65}, {\"type\": \"box\", \"y\": [20, 25, 31, 34, 36, 37, 37, 40, 45, 47, 60, 73, 82, 104, 317, 505, 1724], \"x\": 66, \"name\": 66}, {\"type\": \"box\", \"y\": [29, 33, 46, 54, 64, 67, 67, 161, 170, 338, 388, 456, 983, 1101, 3033, 4056, 6422], \"x\": 67, \"name\": 67}, {\"type\": \"box\", \"y\": [54, 55, 67, 68, 75, 97, 107, 119, 260, 264, 267, 284, 428, 450, 1020, 2983, 5735], \"x\": 68, \"name\": 68}, {\"type\": \"box\", \"y\": [48, 53, 64, 95, 110, 136, 142, 165, 197, 236, 270, 309, 313, 431, 540, 1272, 9876, 21738], \"x\": 69, \"name\": 69}, {\"type\": \"box\", \"y\": [29, 30, 31, 31, 35, 35, 70, 79, 80, 92, 96, 96, 128, 136, 276, 297, 412, 499, 1007, 1815, 3927, 4035, 7705], \"x\": 70, \"name\": 70}, {\"type\": \"box\", \"y\": [29, 42, 49, 109, 199, 549, 689, 999, 1314, 2451], \"x\": 71, \"name\": 71}, {\"type\": \"box\", \"y\": [23, 29, 30, 33, 34, 35, 54, 69, 71, 86, 112, 114, 270, 348, 370, 700, 990, 1021, 1294, 2836], \"x\": 72, \"name\": 72}, {\"type\": \"box\", \"y\": [21, 22, 31, 43, 45, 60, 68, 71, 120, 125, 125, 141, 175, 196, 261, 280, 294, 296, 644, 676, 694, 1669, 2491, 20047], \"x\": 73, \"name\": 73}, {\"type\": \"box\", \"y\": [27, 32, 34, 35, 40, 63, 75, 80, 91, 105, 106, 131, 221, 262, 394, 713, 815, 960, 1302, 1937], \"x\": 74, \"name\": 74}, {\"type\": \"box\", \"y\": [22, 25, 25, 25, 27, 31, 35, 43, 48, 48, 61, 147, 235, 236, 251, 263, 297, 336, 396, 599, 799, 921, 943, 1149, 1295, 2843], \"x\": 75, \"name\": 75}, {\"type\": \"box\", \"y\": [28, 31, 33, 53, 56, 109, 183, 184, 218, 264, 392, 632, 912, 1194, 1295, 16797, 18183], \"x\": 76, \"name\": 76}, {\"type\": \"box\", \"y\": [23, 24, 33, 37, 40, 46, 49, 60, 62, 65, 69, 81, 92, 93, 97, 142, 155, 241, 266, 405, 1566, 1570, 2088], \"x\": 77, \"name\": 77}, {\"type\": \"box\", \"y\": [30, 31, 33, 40, 45, 58, 60, 65, 65, 73, 163, 163, 167, 168, 220, 259, 315, 580, 629, 777, 1177, 1186, 1256, 1906], \"x\": 78, \"name\": 78}, {\"type\": \"box\", \"y\": [59, 81, 83, 86, 113, 243, 304, 343, 469, 841, 1983, 2841], \"x\": 79, \"name\": 79}, {\"type\": \"box\", \"y\": [20, 22, 26, 27, 29, 31, 33, 36, 39, 51, 53, 81, 202, 215, 240, 247, 287, 449, 516, 548, 1080, 2582, 2791], \"x\": 80, \"name\": 80}, {\"type\": \"box\", \"y\": [22, 23, 34, 43, 48, 52, 56, 72, 87, 146, 147, 154, 250, 509, 1399, 1507, 1836, 4869, 53955], \"x\": 81, \"name\": 81}, {\"type\": \"box\", \"y\": [28, 28, 36, 41, 41, 43, 53, 99, 124, 162, 227, 355, 363, 382, 512, 840, 1044, 1165, 1192, 1473, 3475, 4351, 5406], \"x\": 82, \"name\": 82}, {\"type\": \"box\", \"y\": [27, 27, 27, 38, 39, 41, 42, 44, 57, 57, 69, 94, 106, 109, 163, 166, 168, 171, 250, 281, 336, 665, 750, 786, 832, 1828, 13445, 106744], \"x\": 83, \"name\": 83}, {\"type\": \"box\", \"y\": [29, 34, 41, 42, 44, 50, 80, 96, 101, 106, 122, 138, 159, 167, 207, 390, 1373, 2790, 4964, 9748, 17833], \"x\": 84, \"name\": 84}, {\"type\": \"box\", \"y\": [22, 22, 25, 29, 31, 34, 35, 55, 70, 71, 86, 89, 94, 108, 140, 266, 326, 449, 599, 614, 873, 2413, 4176, 8056], \"x\": 85, \"name\": 85}, {\"type\": \"box\", \"y\": [22, 30, 36, 44, 57, 62, 64, 96, 135, 158, 340, 352, 499, 695, 842, 965, 15486, 18724], \"x\": 86, \"name\": 86}, {\"type\": \"box\", \"y\": [28, 66, 84, 87, 97, 122, 142, 161, 575, 1171, 1270, 3919, 7636, 12503, 49917], \"x\": 87, \"name\": 87}, {\"type\": \"box\", \"y\": [22, 29, 30, 32, 36, 36, 37, 39, 40, 42, 44, 105, 108, 116, 126, 152, 174, 189, 201, 296, 889, 1139, 1223, 1584, 1640, 2817, 3752, 9772], \"x\": 88, \"name\": 88}, {\"type\": \"box\", \"y\": [21, 30, 43, 48, 53, 58, 78, 88, 94, 120, 122, 157, 183, 222, 574, 2550, 8045, 8695], \"x\": 89, \"name\": 89}, {\"type\": \"box\", \"y\": [28, 35, 42, 42, 56, 74, 77, 92, 108, 128, 138, 142, 175, 182, 200, 1294, 1390, 1841, 2366, 8041, 10762], \"x\": 90, \"name\": 90}, {\"type\": \"box\", \"y\": [24, 51, 54, 89, 108, 188, 218, 273, 282, 325, 357, 379, 1060, 1139, 1939, 2520, 3426, 4550, 9201], \"x\": 91, \"name\": 91}, {\"type\": \"box\", \"y\": [30, 31, 31, 31, 33, 34, 35, 39, 43, 55, 59, 74, 77, 119, 125, 128, 136, 139, 153, 220, 370, 389, 438, 2164, 2806, 68963], \"x\": 92, \"name\": 92}, {\"type\": \"box\", \"y\": [25, 33, 40, 60, 64, 65, 99, 103, 190, 201, 284, 332, 373, 428, 438, 439, 500, 541, 553, 722, 736, 1048, 1135, 4699, 5191, 9696], \"x\": 93, \"name\": 93}, {\"type\": \"box\", \"y\": [20, 23, 29, 30, 38, 61, 75, 191, 245, 274, 657, 706, 3098, 3299], \"x\": 94, \"name\": 94}, {\"type\": \"box\", \"y\": [22, 26, 27, 28, 30, 65, 223, 307, 321, 486, 910, 1569, 2133, 3883, 6233, 11566, 21650], \"x\": 95, \"name\": 95}, {\"type\": \"box\", \"y\": [30, 47, 54, 67, 121, 139, 154, 165, 168, 215, 267, 305, 319, 330, 609, 1067, 1159, 1597, 2697, 3930, 5652, 37288], \"x\": 96, \"name\": 96}, {\"type\": \"box\", \"y\": [44, 45, 47, 51, 53, 54, 54, 59, 85, 184, 192, 198, 1045, 1565, 2304, 17269], \"x\": 97, \"name\": 97}, {\"type\": \"box\", \"y\": [72, 89, 176, 267, 297, 877, 24741], \"x\": 98, \"name\": 98}, {\"type\": \"box\", \"y\": [282], \"x\": 99, \"name\": 99}, {\"type\": \"box\", \"y\": [20, 21, 21, 22, 23, 24, 24, 25, 25, 26, 28, 30, 30, 32, 34, 34, 34, 35, 35, 41, 45, 55, 56, 235], \"x\": 100, \"name\": 100}], {\"title\": \"User Scores and Reviews\", \"xaxis\": {\"title\": \"User Score\"}, \"yaxis\": {\"title\": \"Review Count\"}, \"showlegend\": false}, {\"showLink\": true, \"linkText\": \"Export to plot.ly\"})});</script>"
      ],
      "text/vnd.plotly.v1+html": [
       "<div id=\"e8ebc05d-77ac-49d6-ada1-f7b730c45ee0\" style=\"height: 525px; width: 100%;\" class=\"plotly-graph-div\"></div><script type=\"text/javascript\">require([\"plotly\"], function(Plotly) { window.PLOTLYENV=window.PLOTLYENV || {};window.PLOTLYENV.BASE_URL=\"https://plot.ly\";Plotly.newPlot(\"e8ebc05d-77ac-49d6-ada1-f7b730c45ee0\", [{\"type\": \"box\", \"y\": [21, 21, 22, 26, 27, 29, 40, 41, 85], \"x\": 0, \"name\": 0}, {\"type\": \"box\", \"y\": [25], \"x\": 9, \"name\": 9}, {\"type\": \"box\", \"y\": [229], \"x\": 10, \"name\": 10}, {\"type\": \"box\", \"y\": [198, 501], \"x\": 17, \"name\": 17}, {\"type\": \"box\", \"y\": [71, 99], \"x\": 18, \"name\": 18}, {\"type\": \"box\", \"y\": [25, 39, 76, 141, 247], \"x\": 20, \"name\": 20}, {\"type\": \"box\", \"y\": [1312], \"x\": 21, \"name\": 21}, {\"type\": \"box\", \"y\": [146], \"x\": 22, \"name\": 22}, {\"type\": \"box\", \"y\": [22, 26, 34], \"x\": 23, \"name\": 23}, {\"type\": \"box\", \"y\": [24, 48, 50, 83, 377], \"x\": 25, \"name\": 25}, {\"type\": \"box\", \"y\": [62], \"x\": 26, \"name\": 26}, {\"type\": \"box\", \"y\": [42, 81], \"x\": 27, \"name\": 27}, {\"type\": \"box\", \"y\": [45, 49, 116, 178, 6470], \"x\": 28, \"name\": 28}, {\"type\": \"box\", \"y\": [20, 324], \"x\": 29, \"name\": 29}, {\"type\": \"box\", \"y\": [21, 26, 73, 125, 247, 457], \"x\": 30, \"name\": 30}, {\"type\": \"box\", \"y\": [80, 165], \"x\": 31, \"name\": 31}, {\"type\": \"box\", \"y\": [274], \"x\": 32, \"name\": 32}, {\"type\": \"box\", \"y\": [28, 65, 93], \"x\": 33, \"name\": 33}, {\"type\": \"box\", \"y\": [175, 3626], \"x\": 34, \"name\": 34}, {\"type\": \"box\", \"y\": [42, 50, 77], \"x\": 35, \"name\": 35}, {\"type\": \"box\", \"y\": [38, 46, 134, 789], \"x\": 37, \"name\": 37}, {\"type\": \"box\", \"y\": [29, 37, 60, 93, 94, 137], \"x\": 38, \"name\": 38}, {\"type\": \"box\", \"y\": [578], \"x\": 39, \"name\": 39}, {\"type\": \"box\", \"y\": [27, 49, 77, 82, 96], \"x\": 40, \"name\": 40}, {\"type\": \"box\", \"y\": [44, 121, 1452], \"x\": 41, \"name\": 41}, {\"type\": \"box\", \"y\": [37, 104], \"x\": 42, \"name\": 42}, {\"type\": \"box\", \"y\": [90, 164, 626, 698, 1686], \"x\": 43, \"name\": 43}, {\"type\": \"box\", \"y\": [170, 492, 1230], \"x\": 44, \"name\": 44}, {\"type\": \"box\", \"y\": [23, 31, 47, 50, 62, 73, 79, 89, 197, 230, 774, 849, 1535], \"x\": 45, \"name\": 45}, {\"type\": \"box\", \"y\": [25, 30, 41, 42, 144, 253, 3435], \"x\": 46, \"name\": 46}, {\"type\": \"box\", \"y\": [25, 27, 30, 38, 63, 1061], \"x\": 47, \"name\": 47}, {\"type\": \"box\", \"y\": [67, 70, 78, 148, 156, 164, 403, 1932], \"x\": 48, \"name\": 48}, {\"type\": \"box\", \"y\": [74, 93, 344, 633, 850, 1125, 3101], \"x\": 49, \"name\": 49}, {\"type\": \"box\", \"y\": [22, 22, 23, 26, 28, 31, 32, 47, 69, 75, 100, 104, 191, 197, 411, 465, 1064], \"x\": 50, \"name\": 50}, {\"type\": \"box\", \"y\": [35, 78, 92, 104, 236, 358, 16326], \"x\": 51, \"name\": 51}, {\"type\": \"box\", \"y\": [24, 39, 63, 89, 127, 1340, 7214], \"x\": 52, \"name\": 52}, {\"type\": \"box\", \"y\": [25, 45, 61, 75, 84, 89, 185, 963, 1879], \"x\": 53, \"name\": 53}, {\"type\": \"box\", \"y\": [33, 36, 46, 82, 88, 239, 305, 624, 6689], \"x\": 54, \"name\": 54}, {\"type\": \"box\", \"y\": [34, 80, 89, 101, 108, 147, 190, 207, 626, 740, 1971, 5496], \"x\": 55, \"name\": 55}, {\"type\": \"box\", \"y\": [20, 140, 152, 169, 202, 267, 690], \"x\": 56, \"name\": 56}, {\"type\": \"box\", \"y\": [23, 24, 76, 105, 150, 239, 252, 606, 5981], \"x\": 57, \"name\": 57}, {\"type\": \"box\", \"y\": [34, 44, 48, 60, 79, 90, 91, 102, 121, 138, 220, 1019, 2007, 24286], \"x\": 58, \"name\": 58}, {\"type\": \"box\", \"y\": [41, 76, 158, 527, 665, 2051, 13912], \"x\": 59, \"name\": 59}, {\"type\": \"box\", \"y\": [20, 33, 66, 79, 123, 253, 1168, 2962, 67341], \"x\": 60, \"name\": 60}, {\"type\": \"box\", \"y\": [20, 25, 69, 107, 279, 453, 639, 662, 1527], \"x\": 61, \"name\": 61}, {\"type\": \"box\", \"y\": [20, 41, 58, 61, 118, 131, 137, 144, 155, 192, 305, 126642, 139867], \"x\": 62, \"name\": 62}, {\"type\": \"box\", \"y\": [36, 42, 59, 60, 66, 72, 144, 180, 251, 1155, 5930, 15470], \"x\": 63, \"name\": 63}, {\"type\": \"box\", \"y\": [22, 45, 52, 52, 105, 432, 1121, 1414, 2084, 2287, 7362], \"x\": 64, \"name\": 64}, {\"type\": \"box\", \"y\": [23, 26, 34, 41, 42, 43, 47, 51, 52, 63, 87, 157, 205, 208, 293, 505, 821, 2964, 4180, 7534], \"x\": 65, \"name\": 65}, {\"type\": \"box\", \"y\": [20, 25, 31, 34, 36, 37, 37, 40, 45, 47, 60, 73, 82, 104, 317, 505, 1724], \"x\": 66, \"name\": 66}, {\"type\": \"box\", \"y\": [29, 33, 46, 54, 64, 67, 67, 161, 170, 338, 388, 456, 983, 1101, 3033, 4056, 6422], \"x\": 67, \"name\": 67}, {\"type\": \"box\", \"y\": [54, 55, 67, 68, 75, 97, 107, 119, 260, 264, 267, 284, 428, 450, 1020, 2983, 5735], \"x\": 68, \"name\": 68}, {\"type\": \"box\", \"y\": [48, 53, 64, 95, 110, 136, 142, 165, 197, 236, 270, 309, 313, 431, 540, 1272, 9876, 21738], \"x\": 69, \"name\": 69}, {\"type\": \"box\", \"y\": [29, 30, 31, 31, 35, 35, 70, 79, 80, 92, 96, 96, 128, 136, 276, 297, 412, 499, 1007, 1815, 3927, 4035, 7705], \"x\": 70, \"name\": 70}, {\"type\": \"box\", \"y\": [29, 42, 49, 109, 199, 549, 689, 999, 1314, 2451], \"x\": 71, \"name\": 71}, {\"type\": \"box\", \"y\": [23, 29, 30, 33, 34, 35, 54, 69, 71, 86, 112, 114, 270, 348, 370, 700, 990, 1021, 1294, 2836], \"x\": 72, \"name\": 72}, {\"type\": \"box\", \"y\": [21, 22, 31, 43, 45, 60, 68, 71, 120, 125, 125, 141, 175, 196, 261, 280, 294, 296, 644, 676, 694, 1669, 2491, 20047], \"x\": 73, \"name\": 73}, {\"type\": \"box\", \"y\": [27, 32, 34, 35, 40, 63, 75, 80, 91, 105, 106, 131, 221, 262, 394, 713, 815, 960, 1302, 1937], \"x\": 74, \"name\": 74}, {\"type\": \"box\", \"y\": [22, 25, 25, 25, 27, 31, 35, 43, 48, 48, 61, 147, 235, 236, 251, 263, 297, 336, 396, 599, 799, 921, 943, 1149, 1295, 2843], \"x\": 75, \"name\": 75}, {\"type\": \"box\", \"y\": [28, 31, 33, 53, 56, 109, 183, 184, 218, 264, 392, 632, 912, 1194, 1295, 16797, 18183], \"x\": 76, \"name\": 76}, {\"type\": \"box\", \"y\": [23, 24, 33, 37, 40, 46, 49, 60, 62, 65, 69, 81, 92, 93, 97, 142, 155, 241, 266, 405, 1566, 1570, 2088], \"x\": 77, \"name\": 77}, {\"type\": \"box\", \"y\": [30, 31, 33, 40, 45, 58, 60, 65, 65, 73, 163, 163, 167, 168, 220, 259, 315, 580, 629, 777, 1177, 1186, 1256, 1906], \"x\": 78, \"name\": 78}, {\"type\": \"box\", \"y\": [59, 81, 83, 86, 113, 243, 304, 343, 469, 841, 1983, 2841], \"x\": 79, \"name\": 79}, {\"type\": \"box\", \"y\": [20, 22, 26, 27, 29, 31, 33, 36, 39, 51, 53, 81, 202, 215, 240, 247, 287, 449, 516, 548, 1080, 2582, 2791], \"x\": 80, \"name\": 80}, {\"type\": \"box\", \"y\": [22, 23, 34, 43, 48, 52, 56, 72, 87, 146, 147, 154, 250, 509, 1399, 1507, 1836, 4869, 53955], \"x\": 81, \"name\": 81}, {\"type\": \"box\", \"y\": [28, 28, 36, 41, 41, 43, 53, 99, 124, 162, 227, 355, 363, 382, 512, 840, 1044, 1165, 1192, 1473, 3475, 4351, 5406], \"x\": 82, \"name\": 82}, {\"type\": \"box\", \"y\": [27, 27, 27, 38, 39, 41, 42, 44, 57, 57, 69, 94, 106, 109, 163, 166, 168, 171, 250, 281, 336, 665, 750, 786, 832, 1828, 13445, 106744], \"x\": 83, \"name\": 83}, {\"type\": \"box\", \"y\": [29, 34, 41, 42, 44, 50, 80, 96, 101, 106, 122, 138, 159, 167, 207, 390, 1373, 2790, 4964, 9748, 17833], \"x\": 84, \"name\": 84}, {\"type\": \"box\", \"y\": [22, 22, 25, 29, 31, 34, 35, 55, 70, 71, 86, 89, 94, 108, 140, 266, 326, 449, 599, 614, 873, 2413, 4176, 8056], \"x\": 85, \"name\": 85}, {\"type\": \"box\", \"y\": [22, 30, 36, 44, 57, 62, 64, 96, 135, 158, 340, 352, 499, 695, 842, 965, 15486, 18724], \"x\": 86, \"name\": 86}, {\"type\": \"box\", \"y\": [28, 66, 84, 87, 97, 122, 142, 161, 575, 1171, 1270, 3919, 7636, 12503, 49917], \"x\": 87, \"name\": 87}, {\"type\": \"box\", \"y\": [22, 29, 30, 32, 36, 36, 37, 39, 40, 42, 44, 105, 108, 116, 126, 152, 174, 189, 201, 296, 889, 1139, 1223, 1584, 1640, 2817, 3752, 9772], \"x\": 88, \"name\": 88}, {\"type\": \"box\", \"y\": [21, 30, 43, 48, 53, 58, 78, 88, 94, 120, 122, 157, 183, 222, 574, 2550, 8045, 8695], \"x\": 89, \"name\": 89}, {\"type\": \"box\", \"y\": [28, 35, 42, 42, 56, 74, 77, 92, 108, 128, 138, 142, 175, 182, 200, 1294, 1390, 1841, 2366, 8041, 10762], \"x\": 90, \"name\": 90}, {\"type\": \"box\", \"y\": [24, 51, 54, 89, 108, 188, 218, 273, 282, 325, 357, 379, 1060, 1139, 1939, 2520, 3426, 4550, 9201], \"x\": 91, \"name\": 91}, {\"type\": \"box\", \"y\": [30, 31, 31, 31, 33, 34, 35, 39, 43, 55, 59, 74, 77, 119, 125, 128, 136, 139, 153, 220, 370, 389, 438, 2164, 2806, 68963], \"x\": 92, \"name\": 92}, {\"type\": \"box\", \"y\": [25, 33, 40, 60, 64, 65, 99, 103, 190, 201, 284, 332, 373, 428, 438, 439, 500, 541, 553, 722, 736, 1048, 1135, 4699, 5191, 9696], \"x\": 93, \"name\": 93}, {\"type\": \"box\", \"y\": [20, 23, 29, 30, 38, 61, 75, 191, 245, 274, 657, 706, 3098, 3299], \"x\": 94, \"name\": 94}, {\"type\": \"box\", \"y\": [22, 26, 27, 28, 30, 65, 223, 307, 321, 486, 910, 1569, 2133, 3883, 6233, 11566, 21650], \"x\": 95, \"name\": 95}, {\"type\": \"box\", \"y\": [30, 47, 54, 67, 121, 139, 154, 165, 168, 215, 267, 305, 319, 330, 609, 1067, 1159, 1597, 2697, 3930, 5652, 37288], \"x\": 96, \"name\": 96}, {\"type\": \"box\", \"y\": [44, 45, 47, 51, 53, 54, 54, 59, 85, 184, 192, 198, 1045, 1565, 2304, 17269], \"x\": 97, \"name\": 97}, {\"type\": \"box\", \"y\": [72, 89, 176, 267, 297, 877, 24741], \"x\": 98, \"name\": 98}, {\"type\": \"box\", \"y\": [282], \"x\": 99, \"name\": 99}, {\"type\": \"box\", \"y\": [20, 21, 21, 22, 23, 24, 24, 25, 25, 26, 28, 30, 30, 32, 34, 34, 34, 35, 35, 41, 45, 55, 56, 235], \"x\": 100, \"name\": 100}], {\"title\": \"User Scores and Reviews\", \"xaxis\": {\"title\": \"User Score\"}, \"yaxis\": {\"title\": \"Review Count\"}, \"showlegend\": false}, {\"showLink\": true, \"linkText\": \"Export to plot.ly\"})});</script>"
      ]
     },
     "metadata": {},
     "output_type": "display_data"
    }
   ],
   "source": [
    "user_score_distribution = json.load(open('./dumps/user-score-distribution.json'))\n",
    "\n",
    "data = []\n",
    "\n",
    "for item in user_score_distribution:\n",
    "    if len(item['review_count']) > 0:\n",
    "        review_count = item['review_count']\n",
    "        data.append(\n",
    "            go.Box(\n",
    "                y=review_count,\n",
    "                x=item['score'],\n",
    "                name=item['score']\n",
    "            )\n",
    "        )\n",
    "\n",
    "layout = go.Layout(\n",
    "    title='User Scores and Reviews',\n",
    "    xaxis=dict(\n",
    "        title=\"User Score\"\n",
    "    ),\n",
    "    yaxis=dict(\n",
    "        title=\"Review Count\"\n",
    "    ),\n",
    "    showlegend=False\n",
    ")   \n",
    "\n",
    "fig = go.Figure(data=data, layout=layout)\n",
    "\n",
    "iplot(fig)"
   ]
  },
  {
   "cell_type": "markdown",
   "metadata": {},
   "source": [
    "###### Updates\n",
    "\n",
    "The lowest amount of updates for a game is 2 (constrained), the highest is 490. The average is 35, and the median is 20.\n",
    "\n",
    "###### Price\n",
    "\n",
    "Although not a focal point, it is worth noting that at the time of the snapshot, there are 100 free products."
   ]
  }
 ],
 "metadata": {
  "kernelspec": {
   "display_name": "Python 3",
   "language": "python",
   "name": "python3"
  },
  "language_info": {
   "codemirror_mode": {
    "name": "ipython",
    "version": 3
   },
   "file_extension": ".py",
   "mimetype": "text/x-python",
   "name": "python",
   "nbconvert_exporter": "python",
   "pygments_lexer": "ipython3",
   "version": "3.6.3"
  }
 },
 "nbformat": 4,
 "nbformat_minor": 2
}
