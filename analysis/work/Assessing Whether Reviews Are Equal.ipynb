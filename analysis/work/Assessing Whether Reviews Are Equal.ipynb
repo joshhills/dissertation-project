{
 "cells": [
  {
   "cell_type": "markdown",
   "metadata": {},
   "source": [
    "# Assessing Whether Reviews Are Equal\n",
    "\n",
    "TODO: Explain from lab notebook.\n",
    "\n",
    "## R1\n",
    "\n",
    "### Aim\n",
    "\n",
    "To discern whether reviews left by users who have received the product for free are biased.\n",
    "\n",
    "### Purpose\n",
    "\n",
    "If there is a trend either way then this means that reviews cannot be treated as an atomically equal metric; this is problematic as there are so many of them, and may result in the need for a new score system to be created for the dataset (at least I have control of this). Simply factoring this information into graphical representations is not useful because the usefulness of its visibility relies on the personal asssumptions of the viewer; this is what I wish to make concrete.\n",
    "\n",
    "I believe one of three things will happen:\n",
    "\n",
    "- Free reviews will favour products more positively (as they do not have the stigma of having spent money on the experience). They may also have a personal relationship with the developer.\n",
    "\n",
    "- Free reviews will be more spread out and perhaps more considered because the person receiving a product for free may be a professional reviewer, community influencer, or at  least somebody aware that the context of their purchase will be highlighted.\n",
    "\n",
    "- There will be no trend.\n",
    "\n",
    "### Investigation\n",
    "\n",
    "// TODO: Talk about ignoring price of games that are not free - could do some basic investigation there.\n",
    "\n",
    "Out of all reviews:\n",
    "- 1,162,276 (~68%) positive.\n",
    "- 370,912 (~32%) negative.\n",
    "\n",
    "The number of reviews not received for free is 1,496,026.\n",
    "Out of 1,496,026 purchased reviews:\n",
    "- 1,133,417 positive (~68%).\n",
    "- 362,609 negative (~32%).\n",
    "The lack of change is due to the comparatively small sample size of free games, which therefore requires further investigation.\n",
    "\n",
    "Out of 1,533,188 reviews, 37,162 were submitted by users who received the product for free (which is ~2.42% in total).\n",
    "\n",
    "Out of 37,162 free reviews:\n",
    "- 28,859 (~77.66%) positive.\n",
    "- 8,303 (~22.34%) negative.\n",
    "\n",
    "This appears to suggest that free reviews are more biased towards positive recommendations. In order to verify this, we look at their deviation from the ratio on the product for which they were left.\n",
    "\n",
    "\n",
    "\n",
    "\n",
    "\n",
    "We can also look at for which games free reviews are left  - are they left chiefly on large, popular games, or younger games (in order to promote them)?\n",
    "\n",
    "\n"
   ]
  }
 ],
 "metadata": {
  "kernelspec": {
   "display_name": "Python 3",
   "language": "python",
   "name": "python3"
  },
  "language_info": {
   "codemirror_mode": {
    "name": "ipython",
    "version": 3
   },
   "file_extension": ".py",
   "mimetype": "text/x-python",
   "name": "python",
   "nbconvert_exporter": "python",
   "pygments_lexer": "ipython3",
   "version": "3.6.3"
  }
 },
 "nbformat": 4,
 "nbformat_minor": 2
}
